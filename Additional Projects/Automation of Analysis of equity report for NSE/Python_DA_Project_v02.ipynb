{
 "cells": [
  {
   "cell_type": "markdown",
   "id": "f8aa672f",
   "metadata": {},
   "source": [
    "# Task 1 : Data Collection"
   ]
  },
  {
   "cell_type": "code",
   "execution_count": 79,
   "id": "ab7ee427",
   "metadata": {},
   "outputs": [],
   "source": [
    "import requests\n",
    "import shutil\n",
    "from datetime import date,timedelta\n",
    "import calendar\n",
    "from zipfile import ZipFile\n",
    "import pandas as pd\n",
    "from pathlib import Path \n",
    "import urllib.request\n",
    "import os"
   ]
  },
  {
   "cell_type": "code",
   "execution_count": 80,
   "id": "adb5cdee",
   "metadata": {},
   "outputs": [],
   "source": [
    "# Creating variables for storing directory paths\n",
    "DATASET_PATH = Path(\"dataset\") # This folder  stores raw data downloaded from NSE website\n",
    "DATASET_CLEANED_PATH = Path(\"dataset_cleaned\") # This folder  stores cleaned data (EQ series)\n",
    "HOLIDAY_PATH=Path(\"holiday_list\") # This folder  stores holidays list of NSE\n",
    "DB_SCRIPTS_PATH=Path(\"DB_Scripts\") # This follder stores sql scripts"
   ]
  },
  {
   "cell_type": "code",
   "execution_count": 81,
   "id": "d1f15be3",
   "metadata": {},
   "outputs": [],
   "source": [
    "# Delete the directories if exists\n",
    "if os.path.exists(DATASET_PATH) and os.path.isdir(DATASET_PATH):\n",
    "    shutil.rmtree(DATASET_PATH)\n",
    "if os.path.exists(DATASET_CLEANED_PATH) and os.path.isdir(DATASET_CLEANED_PATH):\n",
    "    shutil.rmtree(DATASET_CLEANED_PATH)"
   ]
  },
  {
   "cell_type": "code",
   "execution_count": 82,
   "id": "5bb0ee59",
   "metadata": {},
   "outputs": [],
   "source": [
    "# Create new directories if it doesnt exist\n",
    "DATASET_PATH.mkdir(parents=True, exist_ok=True)\n",
    "DATASET_CLEANED_PATH.mkdir(parents=True, exist_ok=True)\n",
    "HOLIDAY_PATH.mkdir(parents=True, exist_ok=True)\n",
    "DB_SCRIPTS_PATH.mkdir(parents=True, exist_ok=True)"
   ]
  },
  {
   "cell_type": "code",
   "execution_count": 83,
   "id": "aad33820",
   "metadata": {},
   "outputs": [],
   "source": [
    "# https://archives.nseindia.com/content/historical/EQUITIES/2023/SEP/cm21SEP2023bhav.csv.zip\n",
    "# https://archives.nseindia.com/content/historical/EQUITIES/2023/SEP/cm22SEP2023bhav.csv.zip\n",
    "# https://strftime.org/\n",
    "\n",
    "'''\n",
    "Function to download files from a url\n",
    "'''\n",
    "def download_file(url):\n",
    "    local_filename = url.split('/')[-1] # retrieve the URL part after https://\n",
    "    with requests.get(url, stream=True) as r:\n",
    "        print(\"Inside the download_file function\")\n",
    "        DATASET_FILE_NAME=DATASET_PATH / local_filename # Setting the file path for file to be downloaded\n",
    "        with open(DATASET_FILE_NAME, 'wb') as f:\n",
    "            shutil.copyfileobj(r.raw, f) # copying the downloaded stream to local file\n",
    "    return local_filename"
   ]
  },
  {
   "cell_type": "code",
   "execution_count": 84,
   "id": "7221937a",
   "metadata": {},
   "outputs": [],
   "source": [
    "#current_date=date.today()\n",
    "#reference_date=date(2023,11,3)\n",
    "#reference_date=date(2023,10,27) #Oct 24,2023 is holiday\n",
    "#reference_date=date(2023,11,3)\n",
    "reference_date=date(2023,11,16) \n",
    "\n",
    "number_of_days=5 # number of days of file to be downloaded w.r.t reference date\n",
    "base_url=\"https://archives.nseindia.com/content/historical/EQUITIES/2023/#/cm{}bhav.csv.zip\"\n",
    "\n",
    "i=0 # to check number of successful downloads which shall be equal of number of dasy after successfully download\n",
    "j=0 # to check number of days skipped"
   ]
  },
  {
   "cell_type": "code",
   "execution_count": 85,
   "id": "db29910e",
   "metadata": {},
   "outputs": [],
   "source": [
    "HOLIDAY_FILE_NAME=HOLIDAY_PATH / \"holiday_list_nse.csv\""
   ]
  },
  {
   "cell_type": "code",
   "execution_count": 86,
   "id": "6766ddfa",
   "metadata": {
    "scrolled": true
   },
   "outputs": [
    {
     "name": "stderr",
     "output_type": "stream",
     "text": [
      "C:\\Users\\Shweta\\AppData\\Local\\Temp\\ipykernel_7232\\1531252967.py:4: UserWarning: Could not infer format, so each element will be parsed individually, falling back to `dateutil`. To ensure parsing is consistent and as-expected, please specify a format.\n",
      "  df['DATE'] = pd.to_datetime(df['DATE']) # converting the DATE column into datetime object since by default panda stores it as object data type\n"
     ]
    },
    {
     "data": {
      "text/html": [
       "<div>\n",
       "<style scoped>\n",
       "    .dataframe tbody tr th:only-of-type {\n",
       "        vertical-align: middle;\n",
       "    }\n",
       "\n",
       "    .dataframe tbody tr th {\n",
       "        vertical-align: top;\n",
       "    }\n",
       "\n",
       "    .dataframe thead th {\n",
       "        text-align: right;\n",
       "    }\n",
       "</style>\n",
       "<table border=\"1\" class=\"dataframe\">\n",
       "  <thead>\n",
       "    <tr style=\"text-align: right;\">\n",
       "      <th></th>\n",
       "      <th>YEAR</th>\n",
       "      <th>DATE</th>\n",
       "      <th>DAY</th>\n",
       "      <th>DESCRIPTION</th>\n",
       "    </tr>\n",
       "  </thead>\n",
       "  <tbody>\n",
       "    <tr>\n",
       "      <th>0</th>\n",
       "      <td>2023</td>\n",
       "      <td>2023-01-26</td>\n",
       "      <td>Thursday</td>\n",
       "      <td>Republic Day</td>\n",
       "    </tr>\n",
       "    <tr>\n",
       "      <th>1</th>\n",
       "      <td>2023</td>\n",
       "      <td>2023-03-07</td>\n",
       "      <td>Tuesday</td>\n",
       "      <td>Holi</td>\n",
       "    </tr>\n",
       "    <tr>\n",
       "      <th>2</th>\n",
       "      <td>2023</td>\n",
       "      <td>2023-03-30</td>\n",
       "      <td>Thursday</td>\n",
       "      <td>Ram Navami</td>\n",
       "    </tr>\n",
       "    <tr>\n",
       "      <th>3</th>\n",
       "      <td>2023</td>\n",
       "      <td>2023-04-04</td>\n",
       "      <td>Tuesday</td>\n",
       "      <td>Mahavir Jayanti</td>\n",
       "    </tr>\n",
       "    <tr>\n",
       "      <th>4</th>\n",
       "      <td>2023</td>\n",
       "      <td>2023-04-07</td>\n",
       "      <td>Friday</td>\n",
       "      <td>Good Friday</td>\n",
       "    </tr>\n",
       "  </tbody>\n",
       "</table>\n",
       "</div>"
      ],
      "text/plain": [
       "   YEAR       DATE       DAY      DESCRIPTION\n",
       "0  2023 2023-01-26  Thursday     Republic Day\n",
       "1  2023 2023-03-07   Tuesday             Holi\n",
       "2  2023 2023-03-30  Thursday       Ram Navami\n",
       "3  2023 2023-04-04   Tuesday  Mahavir Jayanti\n",
       "4  2023 2023-04-07    Friday      Good Friday"
      ]
     },
     "execution_count": 86,
     "metadata": {},
     "output_type": "execute_result"
    }
   ],
   "source": [
    "# Extracting holiday list of NSE\n",
    "df=pd.read_csv(HOLIDAY_FILE_NAME) # Reading the csv file which contains the holiday list\n",
    "df=df[df['YEAR']==reference_date.year] # Filtering the data for year of reference date\n",
    "df['DATE'] = pd.to_datetime(df['DATE']) # converting the DATE column into datetime object since by default panda stores it as object data type\n",
    "#df['DATE'] = df['DATE'].dt.date\n",
    "df.head()"
   ]
  },
  {
   "cell_type": "code",
   "execution_count": 87,
   "id": "0ee2c0df",
   "metadata": {},
   "outputs": [
    {
     "data": {
      "text/plain": [
       "[datetime.date(2023, 1, 26),\n",
       " datetime.date(2023, 3, 7),\n",
       " datetime.date(2023, 3, 30),\n",
       " datetime.date(2023, 4, 4),\n",
       " datetime.date(2023, 4, 7),\n",
       " datetime.date(2023, 4, 14),\n",
       " datetime.date(2023, 5, 1),\n",
       " datetime.date(2023, 6, 29),\n",
       " datetime.date(2023, 8, 15),\n",
       " datetime.date(2023, 9, 19),\n",
       " datetime.date(2023, 10, 2),\n",
       " datetime.date(2023, 10, 24),\n",
       " datetime.date(2023, 11, 14),\n",
       " datetime.date(2023, 11, 27),\n",
       " datetime.date(2023, 12, 25)]"
      ]
     },
     "execution_count": 87,
     "metadata": {},
     "output_type": "execute_result"
    }
   ],
   "source": [
    "holiday_dates=df['DATE'].dt.date.to_list() # converting the DATE column into list data type containing dates\n",
    "holiday_dates"
   ]
  },
  {
   "cell_type": "code",
   "execution_count": 88,
   "id": "04069d5c",
   "metadata": {},
   "outputs": [
    {
     "name": "stdout",
     "output_type": "stream",
     "text": [
      "https://archives.nseindia.com/content/historical/EQUITIES/2023/NOV/cm16NOV2023bhav.csv.zip\n",
      "Inside the download_file function\n",
      "Downloaded file for  16NOV2023\n",
      "https://archives.nseindia.com/content/historical/EQUITIES/2023/NOV/cm15NOV2023bhav.csv.zip\n",
      "Inside the download_file function\n",
      "Downloaded file for  15NOV2023\n",
      "14NOV2023 is holiday\n",
      "https://archives.nseindia.com/content/historical/EQUITIES/2023/NOV/cm13NOV2023bhav.csv.zip\n",
      "Inside the download_file function\n",
      "Downloaded file for  13NOV2023\n",
      "12NOV2023 is weekend (Sunday)\n",
      "11NOV2023 is weekend (Saturday)\n",
      "https://archives.nseindia.com/content/historical/EQUITIES/2023/NOV/cm10NOV2023bhav.csv.zip\n",
      "Inside the download_file function\n",
      "Downloaded file for  10NOV2023\n",
      "https://archives.nseindia.com/content/historical/EQUITIES/2023/NOV/cm09NOV2023bhav.csv.zip\n",
      "Inside the download_file function\n",
      "Downloaded file for  09NOV2023\n"
     ]
    }
   ],
   "source": [
    "temp=reference_date\n",
    "\n",
    "while i<number_of_days:  # to repeat the loop until the files are downloaded number_of_days times\n",
    "    if calendar.day_name[temp.weekday()] in 'Saturday':  # skip the date if its saturday\n",
    "        print(\"{} is weekend (Saturday)\".format(temp.strftime(\"%d%b%Y\").upper()))\n",
    "        temp=temp+timedelta(days=-1) # decrease the temp by 1 day as we are going backwards from reference date\n",
    "    elif calendar.day_name[temp.weekday()] in 'Sunday':   # skip the date if its sunday     \n",
    "        print(\"{} is weekend (Sunday)\".format(temp.strftime(\"%d%b%Y\").upper()))\n",
    "        temp=temp+timedelta(days=-1) # decrease the temp by 1 day as we are going backwards from reference date\n",
    "    elif temp in holiday_dates:    # skip the date if its holiday as per NSE   \n",
    "        print(\"{} is holiday\".format(temp.strftime(\"%d%b%Y\").upper()))\n",
    "        temp=temp+timedelta(days=-1) # decrease the temp by 1 day as we are going backwards from reference date\n",
    "    else:\n",
    "        url_for_csv=base_url.replace('{}',temp.strftime(\"%d%b%Y\").upper())\n",
    "        url_for_csv=url_for_csv.replace('#',temp.strftime(\"%b\").upper())\n",
    "        print(url_for_csv)\n",
    "        download_file(url_for_csv)\n",
    "        i=i+1    \n",
    "        print(\"Downloaded file for  {}\".format(temp.strftime(\"%d%b%Y\").upper()))\n",
    "        DATASET_FILE_NAME=DATASET_PATH / url_for_csv.split('/')[-1]\n",
    "        with ZipFile(DATASET_FILE_NAME, 'r') as f:\n",
    "            #extract in current directory\n",
    "            f.extractall(DATASET_PATH)\n",
    "        temp=temp+timedelta(days=-1)\n",
    "   "
   ]
  },
  {
   "cell_type": "markdown",
   "id": "5e868a9f",
   "metadata": {},
   "source": [
    "# Task 2 : Data Cleaning"
   ]
  },
  {
   "cell_type": "code",
   "execution_count": 89,
   "id": "9986f40a",
   "metadata": {},
   "outputs": [],
   "source": [
    "import pandas as pd \n",
    "import os \n",
    "import glob \n",
    "from datetime import datetime"
   ]
  },
  {
   "cell_type": "code",
   "execution_count": 90,
   "id": "86a9c578",
   "metadata": {},
   "outputs": [],
   "source": [
    "# use glob to get all the csv files  \n",
    "# in the folder \n",
    "#path = os.getcwd() \n",
    "csv_files = glob.glob(os.path.join(DATASET_PATH, \"*.csv\")) "
   ]
  },
  {
   "cell_type": "code",
   "execution_count": 91,
   "id": "9d74e0e4",
   "metadata": {},
   "outputs": [
    {
     "name": "stdout",
     "output_type": "stream",
     "text": [
      "Location: dataset\\cm09NOV2023bhav.csv\n",
      "File Name: cm09NOV2023bhav.csv\n",
      "Location: dataset\\cm10NOV2023bhav.csv\n",
      "File Name: cm10NOV2023bhav.csv\n",
      "Location: dataset\\cm13NOV2023bhav.csv\n",
      "File Name: cm13NOV2023bhav.csv\n",
      "Location: dataset\\cm15NOV2023bhav.csv\n",
      "File Name: cm15NOV2023bhav.csv\n",
      "Location: dataset\\cm16NOV2023bhav.csv\n",
      "File Name: cm16NOV2023bhav.csv\n"
     ]
    }
   ],
   "source": [
    "  \n",
    "# loop over the list of csv files \n",
    "for f in csv_files: \n",
    "      \n",
    "    # read the csv file \n",
    "    df = pd.read_csv(f) \n",
    "      \n",
    "    # print the location and filename \n",
    "    print('Location:', f) \n",
    "    file_name= f.split(\"\\\\\")[-1]\n",
    "    print('File Name:', file_name) \n",
    "    \n",
    "    # retrieving the date stored between 'cm' and 'bhav' substring. sample 'cm23OCT2023bhav', to be retrieved 23OCT2023\n",
    "    sub1 = \"cm\"\n",
    "    sub2 = \"bhav\"\n",
    " \n",
    "    file_name=file_name.replace(sub1,\"*\") # substituting 'cm' in file_name with '*\n",
    "    file_name=file_name.replace(sub2,\"*\") # substiting 'bhav' in file_name with '*'\n",
    "    re=file_name.split(\"*\") # splitting the file_name with '*'. This will give us date at index=1 location\n",
    "    res=re[1] # storing the date\n",
    "\n",
    "    date_str=res\n",
    "    date_format = '%d%b%Y' # setting the date format which is present in the extracted date from the file_name (23OCT2023)\n",
    "    date_obj = datetime.strptime(date_str, date_format) # converting the string extracted from the file_name into datetime object\n",
    "\n",
    "\n",
    "    df=df[df['SERIES'].isin(['EQ'])]  # filter EQ values\n",
    "    file_name=date_obj.strftime(\"%Y%m%d\")+\".csv\" #setting the file name in YYYYMMDD.csv format\n",
    "    DATASET_CLEANED_FILE_NAME=DATASET_CLEANED_PATH / file_name # creating path to store the cleaned file\n",
    "    df=df.dropna(how='all', axis='columns') # deleting any column which has been created by mistake having only null values\n",
    "    df.to_csv(DATASET_CLEANED_FILE_NAME,index=False) # saving the dataframe in csv format "
   ]
  },
  {
   "cell_type": "markdown",
   "id": "55ae677e",
   "metadata": {},
   "source": [
    "# Task 3 : Data Storage"
   ]
  },
  {
   "cell_type": "code",
   "execution_count": 92,
   "id": "83dd1a5d",
   "metadata": {},
   "outputs": [
    {
     "name": "stdout",
     "output_type": "stream",
     "text": [
      "Requirement already satisfied: mysql-connector-python in d:\\shweta\\python\\shweta395\\lib\\site-packages (8.2.0)\n",
      "Requirement already satisfied: protobuf<=4.21.12,>=4.21.1 in d:\\shweta\\python\\shweta395\\lib\\site-packages (from mysql-connector-python) (4.21.12)\n"
     ]
    },
    {
     "name": "stderr",
     "output_type": "stream",
     "text": [
      "\n",
      "[notice] A new release of pip is available: 23.2.1 -> 23.3.1\n",
      "[notice] To update, run: python.exe -m pip install --upgrade pip\n"
     ]
    }
   ],
   "source": [
    "! pip install mysql-connector-python"
   ]
  },
  {
   "cell_type": "code",
   "execution_count": 93,
   "id": "ad8dd1cd",
   "metadata": {},
   "outputs": [
    {
     "name": "stdout",
     "output_type": "stream",
     "text": [
      "Requirement already satisfied: SQLAlchemy in d:\\shweta\\python\\shweta395\\lib\\site-packages (2.0.23)\n",
      "Requirement already satisfied: typing-extensions>=4.2.0 in d:\\shweta\\python\\shweta395\\lib\\site-packages (from SQLAlchemy) (4.7.1)\n",
      "Requirement already satisfied: greenlet!=0.4.17 in d:\\shweta\\python\\shweta395\\lib\\site-packages (from SQLAlchemy) (3.0.1)\n"
     ]
    },
    {
     "name": "stderr",
     "output_type": "stream",
     "text": [
      "\n",
      "[notice] A new release of pip is available: 23.2.1 -> 23.3.1\n",
      "[notice] To update, run: python.exe -m pip install --upgrade pip\n"
     ]
    }
   ],
   "source": [
    "! pip install SQLAlchemy"
   ]
  },
  {
   "cell_type": "code",
   "execution_count": 94,
   "id": "ffa2695a",
   "metadata": {},
   "outputs": [
    {
     "name": "stdout",
     "output_type": "stream",
     "text": [
      "Requirement already satisfied: mysqlclient in d:\\shweta\\python\\shweta395\\lib\\site-packages (2.2.0)\n"
     ]
    },
    {
     "name": "stderr",
     "output_type": "stream",
     "text": [
      "\n",
      "[notice] A new release of pip is available: 23.2.1 -> 23.3.1\n",
      "[notice] To update, run: python.exe -m pip install --upgrade pip\n"
     ]
    }
   ],
   "source": [
    "! pip install mysqlclient"
   ]
  },
  {
   "cell_type": "code",
   "execution_count": 95,
   "id": "c7102dff",
   "metadata": {},
   "outputs": [],
   "source": [
    "DB_USER='root'\n",
    "DB_PASSWORD='Shweta1239#'\n",
    "DB_HOST='127.0.0.1'\n",
    "DB_NAME='analytics'\n",
    "TABLE_EQ='tbl_eq_data'\n",
    "TABLE_EQ_ANALYTICS='tbl_eq_analytics'"
   ]
  },
  {
   "cell_type": "code",
   "execution_count": 96,
   "id": "ff9bc949",
   "metadata": {},
   "outputs": [],
   "source": [
    "import mysql.connector \n",
    "\n",
    "# function to execute sql file\n",
    "def execute_sql_file(DB_CREATION_FILE_PATH):\n",
    "    # establish a connection to the database \n",
    "    cnx = mysql.connector.connect(user=DB_USER, password=DB_PASSWORD,host=DB_HOST)# database='your_database')\n",
    "    \n",
    "    #cnx = create_engine(\"mysql+mysqldb://{user}:{pw}@{host}/{db}\".format(host=\"localhost\", db=\"analytics\", user=\"root\", pw=\"root\"))\n",
    "\n",
    "    # create a cursor object \n",
    "    cursor = cnx.cursor() \n",
    "\n",
    "    # read the contents of the .sql file \n",
    "    with open(DB_CREATION_FILE_PATH, 'r') as file: \n",
    "        sql_script = file.read() \n",
    "\n",
    "    # execute the script using the cursor object \n",
    "    for result in cursor.execute(sql_script, multi=True): \n",
    "        pass \n",
    "\n",
    "    # commit the changes to the database \n",
    "    cnx.commit() \n",
    "\n",
    "    # close the cursor and connection \n",
    "    cursor.close() \n",
    "    cnx.close() "
   ]
  },
  {
   "cell_type": "code",
   "execution_count": 97,
   "id": "a6c2df53",
   "metadata": {},
   "outputs": [],
   "source": [
    "DB_CREATION_FILE_PATH=DB_SCRIPTS_PATH / \"create_analytics_database.sql\"\n",
    "\n",
    "# Creating a database if it doesnt exist\n",
    "execute_sql_file(DB_CREATION_FILE_PATH)"
   ]
  },
  {
   "cell_type": "code",
   "execution_count": 98,
   "id": "99d06118",
   "metadata": {},
   "outputs": [],
   "source": [
    "TABLE_CREATION_FILE_PATH=DB_SCRIPTS_PATH / \"create_eq_table.sql\"\n",
    "\n",
    "# Create table schema if it doesnt exist\n",
    "execute_sql_file(TABLE_CREATION_FILE_PATH)"
   ]
  },
  {
   "cell_type": "code",
   "execution_count": 99,
   "id": "49a27389",
   "metadata": {},
   "outputs": [],
   "source": [
    "from sqlalchemy import create_engine\n",
    "# Create SQLAlchemy engine to connect to MySQL Database\n",
    "engine = create_engine(\"mysql+mysqldb://{user}:{pw}@{host}/{db}\".format(host=DB_HOST, db=DB_NAME, user=DB_USER, pw=DB_PASSWORD))"
   ]
  },
  {
   "cell_type": "code",
   "execution_count": 100,
   "id": "084212dd",
   "metadata": {},
   "outputs": [
    {
     "data": {
      "text/plain": [
       "9017"
      ]
     },
     "execution_count": 100,
     "metadata": {},
     "output_type": "execute_result"
    }
   ],
   "source": [
    "#cnx = mysql.connector.connect(user='root', password='root',host='127.0.0.1')# database='your_database') \n",
    "\n",
    "csv_files = glob.glob(os.path.join(DATASET_CLEANED_PATH, \"*.csv\")) \n",
    "\n",
    "# Load all the csv files into data frame and append the data frames to 'df' list\n",
    "df=[]\n",
    "for f in csv_files: \n",
    "    # read the csv file \n",
    "    df.append(pd.read_csv(f))\n",
    "\n",
    "# concatenate all the data frames into a single data frame using concat() function of pandas\n",
    "df_result=pd.concat(df,axis=0)\n",
    "\n",
    "#print(df_result.columns)\n",
    "#df_result.head()\n",
    "\n",
    "# Write the data frame into 'tbl_eq_data' table.If the table exists, then replace and create new table\n",
    "df_result.to_sql(con=engine, name=TABLE_EQ, if_exists='replace')"
   ]
  },
  {
   "cell_type": "markdown",
   "id": "4e4ccada",
   "metadata": {},
   "source": [
    "# Task 4 : Main Process"
   ]
  },
  {
   "cell_type": "code",
   "execution_count": 101,
   "id": "e3d5baad",
   "metadata": {},
   "outputs": [],
   "source": [
    "TABLE_CREATION_FILE_PATH=DB_SCRIPTS_PATH / \"create_eq_analytics_table.sql\""
   ]
  },
  {
   "cell_type": "code",
   "execution_count": 102,
   "id": "893decfe",
   "metadata": {},
   "outputs": [],
   "source": [
    "# Create table schema if it doesnt exist\n",
    "execute_sql_file(TABLE_CREATION_FILE_PATH)"
   ]
  },
  {
   "cell_type": "code",
   "execution_count": 103,
   "id": "05167513",
   "metadata": {},
   "outputs": [],
   "source": [
    "df=[]\n",
    "\n",
    "# Load all the csv files into data frame and append the data frames to 'df' list\n",
    "for f in csv_files: \n",
    "    # read the csv file \n",
    "    df.append(pd.read_csv(f))\n",
    "\n",
    "# concatenate all the data frames into a single data frame using concat() function of pandas\n",
    "df_result=pd.concat(df,axis=0)\n",
    "    \n",
    "df_result=df_result[['SYMBOL','TIMESTAMP','CLOSE','TOTTRDQTY']]"
   ]
  },
  {
   "cell_type": "code",
   "execution_count": 104,
   "id": "dd37264e",
   "metadata": {},
   "outputs": [
    {
     "data": {
      "text/html": [
       "<div>\n",
       "<style scoped>\n",
       "    .dataframe tbody tr th:only-of-type {\n",
       "        vertical-align: middle;\n",
       "    }\n",
       "\n",
       "    .dataframe tbody tr th {\n",
       "        vertical-align: top;\n",
       "    }\n",
       "\n",
       "    .dataframe thead th {\n",
       "        text-align: right;\n",
       "    }\n",
       "</style>\n",
       "<table border=\"1\" class=\"dataframe\">\n",
       "  <thead>\n",
       "    <tr style=\"text-align: right;\">\n",
       "      <th></th>\n",
       "      <th>SYMBOL</th>\n",
       "      <th>TIMESTAMP</th>\n",
       "      <th>CLOSE</th>\n",
       "      <th>TOTTRDQTY</th>\n",
       "    </tr>\n",
       "  </thead>\n",
       "  <tbody>\n",
       "    <tr>\n",
       "      <th>0</th>\n",
       "      <td>21STCENMGM</td>\n",
       "      <td>09-NOV-2023</td>\n",
       "      <td>18.35</td>\n",
       "      <td>13735</td>\n",
       "    </tr>\n",
       "    <tr>\n",
       "      <th>1</th>\n",
       "      <td>360ONE</td>\n",
       "      <td>09-NOV-2023</td>\n",
       "      <td>545.65</td>\n",
       "      <td>197801</td>\n",
       "    </tr>\n",
       "    <tr>\n",
       "      <th>2</th>\n",
       "      <td>3IINFOLTD</td>\n",
       "      <td>09-NOV-2023</td>\n",
       "      <td>35.95</td>\n",
       "      <td>400245</td>\n",
       "    </tr>\n",
       "    <tr>\n",
       "      <th>3</th>\n",
       "      <td>3MINDIA</td>\n",
       "      <td>09-NOV-2023</td>\n",
       "      <td>31726.55</td>\n",
       "      <td>1981</td>\n",
       "    </tr>\n",
       "    <tr>\n",
       "      <th>4</th>\n",
       "      <td>3PLAND</td>\n",
       "      <td>09-NOV-2023</td>\n",
       "      <td>29.05</td>\n",
       "      <td>31979</td>\n",
       "    </tr>\n",
       "  </tbody>\n",
       "</table>\n",
       "</div>"
      ],
      "text/plain": [
       "       SYMBOL    TIMESTAMP     CLOSE  TOTTRDQTY\n",
       "0  21STCENMGM  09-NOV-2023     18.35      13735\n",
       "1      360ONE  09-NOV-2023    545.65     197801\n",
       "2   3IINFOLTD  09-NOV-2023     35.95     400245\n",
       "3     3MINDIA  09-NOV-2023  31726.55       1981\n",
       "4      3PLAND  09-NOV-2023     29.05      31979"
      ]
     },
     "execution_count": 104,
     "metadata": {},
     "output_type": "execute_result"
    }
   ],
   "source": [
    "df_result.head()"
   ]
  },
  {
   "cell_type": "code",
   "execution_count": 105,
   "id": "1109917b",
   "metadata": {},
   "outputs": [],
   "source": [
    "#sort data date and SYMBOL wise\n",
    "df_result=df_result.sort_values(by=['TIMESTAMP','SYMBOL'],ascending=[False,True])"
   ]
  },
  {
   "cell_type": "code",
   "execution_count": 106,
   "id": "3b8e876f",
   "metadata": {},
   "outputs": [
    {
     "data": {
      "text/plain": [
       "(9017, 4)"
      ]
     },
     "execution_count": 106,
     "metadata": {},
     "output_type": "execute_result"
    }
   ],
   "source": [
    "df_result.shape"
   ]
  },
  {
   "cell_type": "code",
   "execution_count": 107,
   "id": "4f684234",
   "metadata": {},
   "outputs": [],
   "source": [
    "# calculate moving average for the last 2 days\n",
    "df_result['moving_average']=df_result['CLOSE'].rolling(2).mean()"
   ]
  },
  {
   "cell_type": "code",
   "execution_count": 108,
   "id": "b4ea0e04",
   "metadata": {},
   "outputs": [
    {
     "data": {
      "text/plain": [
       "9017"
      ]
     },
     "execution_count": 108,
     "metadata": {},
     "output_type": "execute_result"
    }
   ],
   "source": [
    "# Write the data frame into 'tbl_eq_analytics' table.If the table exists, then replace and create new table\n",
    "df_result.to_sql(con=engine, name=TABLE_EQ_ANALYTICS, if_exists='replace') "
   ]
  },
  {
   "cell_type": "markdown",
   "id": "c036a484",
   "metadata": {},
   "source": [
    "# Task 5 : Output"
   ]
  },
  {
   "cell_type": "code",
   "execution_count": 109,
   "id": "3dd4a09b",
   "metadata": {},
   "outputs": [],
   "source": [
    "df_result_2=df_result[df_result['CLOSE'] > df_result['moving_average']] # Filter the rows having CLOSE > moving_average"
   ]
  },
  {
   "cell_type": "code",
   "execution_count": 110,
   "id": "372ca0a0",
   "metadata": {},
   "outputs": [
    {
     "data": {
      "text/html": [
       "<div>\n",
       "<style scoped>\n",
       "    .dataframe tbody tr th:only-of-type {\n",
       "        vertical-align: middle;\n",
       "    }\n",
       "\n",
       "    .dataframe tbody tr th {\n",
       "        vertical-align: top;\n",
       "    }\n",
       "\n",
       "    .dataframe thead th {\n",
       "        text-align: right;\n",
       "    }\n",
       "</style>\n",
       "<table border=\"1\" class=\"dataframe\">\n",
       "  <thead>\n",
       "    <tr style=\"text-align: right;\">\n",
       "      <th></th>\n",
       "      <th>SYMBOL</th>\n",
       "      <th>TIMESTAMP</th>\n",
       "      <th>CLOSE</th>\n",
       "      <th>TOTTRDQTY</th>\n",
       "      <th>moving_average</th>\n",
       "    </tr>\n",
       "  </thead>\n",
       "  <tbody>\n",
       "    <tr>\n",
       "      <th>1</th>\n",
       "      <td>360ONE</td>\n",
       "      <td>16-NOV-2023</td>\n",
       "      <td>543.10</td>\n",
       "      <td>1136970</td>\n",
       "      <td>281.600</td>\n",
       "    </tr>\n",
       "    <tr>\n",
       "      <th>3</th>\n",
       "      <td>3MINDIA</td>\n",
       "      <td>16-NOV-2023</td>\n",
       "      <td>30706.15</td>\n",
       "      <td>2816</td>\n",
       "      <td>15371.525</td>\n",
       "    </tr>\n",
       "    <tr>\n",
       "      <th>5</th>\n",
       "      <td>5PAISA</td>\n",
       "      <td>16-NOV-2023</td>\n",
       "      <td>451.95</td>\n",
       "      <td>167205</td>\n",
       "      <td>240.200</td>\n",
       "    </tr>\n",
       "    <tr>\n",
       "      <th>9</th>\n",
       "      <td>AARON</td>\n",
       "      <td>16-NOV-2023</td>\n",
       "      <td>263.50</td>\n",
       "      <td>12416</td>\n",
       "      <td>135.275</td>\n",
       "    </tr>\n",
       "    <tr>\n",
       "      <th>10</th>\n",
       "      <td>AARTIDRUGS</td>\n",
       "      <td>16-NOV-2023</td>\n",
       "      <td>473.65</td>\n",
       "      <td>164947</td>\n",
       "      <td>368.575</td>\n",
       "    </tr>\n",
       "  </tbody>\n",
       "</table>\n",
       "</div>"
      ],
      "text/plain": [
       "        SYMBOL    TIMESTAMP     CLOSE  TOTTRDQTY  moving_average\n",
       "1       360ONE  16-NOV-2023    543.10    1136970         281.600\n",
       "3      3MINDIA  16-NOV-2023  30706.15       2816       15371.525\n",
       "5       5PAISA  16-NOV-2023    451.95     167205         240.200\n",
       "9        AARON  16-NOV-2023    263.50      12416         135.275\n",
       "10  AARTIDRUGS  16-NOV-2023    473.65     164947         368.575"
      ]
     },
     "execution_count": 110,
     "metadata": {},
     "output_type": "execute_result"
    }
   ],
   "source": [
    "df_result_2.head()"
   ]
  },
  {
   "cell_type": "code",
   "execution_count": 111,
   "id": "c8c81f59",
   "metadata": {},
   "outputs": [],
   "source": [
    "OUTPUT_PATH = Path(\"output\")\n",
    "OUTPUT_PATH.mkdir(parents=True, exist_ok=True)\n",
    "OUTPUT_FILE_NAME=OUTPUT_PATH/ \"output.csv\""
   ]
  },
  {
   "cell_type": "code",
   "execution_count": 112,
   "id": "73b6c83d",
   "metadata": {},
   "outputs": [],
   "source": [
    "df_result_2.to_csv(OUTPUT_FILE_NAME,index=False)"
   ]
  }
 ],
 "metadata": {
  "kernelspec": {
   "display_name": "Python 3 (ipykernel)",
   "language": "python",
   "name": "python3"
  },
  "language_info": {
   "codemirror_mode": {
    "name": "ipython",
    "version": 3
   },
   "file_extension": ".py",
   "mimetype": "text/x-python",
   "name": "python",
   "nbconvert_exporter": "python",
   "pygments_lexer": "ipython3",
   "version": "3.9.5"
  },
  "toc": {
   "base_numbering": 1,
   "nav_menu": {},
   "number_sections": true,
   "sideBar": true,
   "skip_h1_title": false,
   "title_cell": "Table of Contents",
   "title_sidebar": "Contents",
   "toc_cell": false,
   "toc_position": {
    "height": "calc(100% - 180px)",
    "left": "10px",
    "top": "150px",
    "width": "192px"
   },
   "toc_section_display": true,
   "toc_window_display": true
  }
 },
 "nbformat": 4,
 "nbformat_minor": 5
}
