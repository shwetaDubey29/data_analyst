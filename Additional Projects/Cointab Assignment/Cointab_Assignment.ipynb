{
 "cells": [
  {
   "cell_type": "markdown",
   "id": "d90bb0bb-4872-4b18-8c8a-297ae7e8d24a",
   "metadata": {
    "jupyter": {
     "source_hidden": true
    }
   },
   "source": [
    "# Installing dependencies and importing packages"
   ]
  },
  {
   "cell_type": "code",
   "execution_count": 1,
   "id": "16119054-3b59-4d80-a26e-412b97b9a0f8",
   "metadata": {},
   "outputs": [],
   "source": [
    "import pandas as pd\n",
    "from pathlib import Path "
   ]
  },
  {
   "cell_type": "code",
   "execution_count": 2,
   "id": "80f8f73c-c2f6-443d-a461-dffd8a7417f2",
   "metadata": {},
   "outputs": [
    {
     "name": "stdout",
     "output_type": "stream",
     "text": [
      "Requirement already satisfied: openpyxl in d:\\shweta\\python\\shweta395\\lib\\site-packages (3.1.2)\n",
      "Requirement already satisfied: et-xmlfile in d:\\shweta\\python\\shweta395\\lib\\site-packages (from openpyxl) (1.1.0)\n"
     ]
    },
    {
     "name": "stderr",
     "output_type": "stream",
     "text": [
      "\n",
      "[notice] A new release of pip is available: 23.2.1 -> 24.0\n",
      "[notice] To update, run: python.exe -m pip install --upgrade pip\n"
     ]
    }
   ],
   "source": [
    "!pip install openpyxl"
   ]
  },
  {
   "cell_type": "code",
   "execution_count": 3,
   "id": "d3ad9500-5db0-4026-b7b1-62edac4b3c40",
   "metadata": {},
   "outputs": [],
   "source": [
    "DATASET_PATH = Path(\"data\")\n",
    "WEBSITE_ORDER_REPORT_PATH= DATASET_PATH / \"Company X - Order Report.xlsx\"\n",
    "PINCODE_ZONES_PATH= DATASET_PATH / \"Company X - Pincode Zones.xlsx\"\n",
    "SKU_MASTER_PATH= DATASET_PATH / \"Company X - SKU Master.xlsx\"\n",
    "INVOICE_PATH= DATASET_PATH / \"Courier Company - Invoice.xlsx\"\n",
    "RATES_PATH= DATASET_PATH / \"Courier Company - Rates.xlsx\""
   ]
  },
  {
   "cell_type": "code",
   "execution_count": 4,
   "id": "eb5c90f6-cce2-40c0-ae1a-d33c548c2de0",
   "metadata": {},
   "outputs": [],
   "source": [
    "pd.options.display.float_format = '{:.2f}'.format"
   ]
  },
  {
   "cell_type": "code",
   "execution_count": 5,
   "id": "7b71604b-a86a-4cc9-921c-719f2788f9bd",
   "metadata": {},
   "outputs": [],
   "source": [
    "pd.set_option('display.max_columns', None)\n",
    "pd.set_option('display.max_rows', None)"
   ]
  },
  {
   "cell_type": "markdown",
   "id": "9ca17700-c4e2-4d81-beb9-ad2991925717",
   "metadata": {},
   "source": [
    "# Loading Website Order"
   ]
  },
  {
   "cell_type": "code",
   "execution_count": 6,
   "id": "b3558244-8979-402a-b248-cc0215ece180",
   "metadata": {},
   "outputs": [],
   "source": [
    "order_report_df=pd.read_excel(WEBSITE_ORDER_REPORT_PATH)"
   ]
  },
  {
   "cell_type": "code",
   "execution_count": 7,
   "id": "b16b030d-c1fd-4506-a76c-f74dbe2c16ca",
   "metadata": {},
   "outputs": [
    {
     "data": {
      "text/plain": [
       "(400, 3)"
      ]
     },
     "execution_count": 7,
     "metadata": {},
     "output_type": "execute_result"
    }
   ],
   "source": [
    "order_report_df.shape"
   ]
  },
  {
   "cell_type": "code",
   "execution_count": 8,
   "id": "8c97f945-b145-475c-96c5-ac048b57cecf",
   "metadata": {},
   "outputs": [
    {
     "name": "stdout",
     "output_type": "stream",
     "text": [
      "<class 'pandas.core.frame.DataFrame'>\n",
      "RangeIndex: 400 entries, 0 to 399\n",
      "Data columns (total 3 columns):\n",
      " #   Column         Non-Null Count  Dtype  \n",
      "---  ------         --------------  -----  \n",
      " 0   ExternOrderNo  400 non-null    int64  \n",
      " 1   SKU            400 non-null    object \n",
      " 2   Order Qty      400 non-null    float64\n",
      "dtypes: float64(1), int64(1), object(1)\n",
      "memory usage: 9.5+ KB\n"
     ]
    }
   ],
   "source": [
    "order_report_df.info()"
   ]
  },
  {
   "cell_type": "code",
   "execution_count": 9,
   "id": "1da0868d-0408-43c3-ad6b-93795e7aa946",
   "metadata": {},
   "outputs": [
    {
     "data": {
      "text/html": [
       "<div>\n",
       "<style scoped>\n",
       "    .dataframe tbody tr th:only-of-type {\n",
       "        vertical-align: middle;\n",
       "    }\n",
       "\n",
       "    .dataframe tbody tr th {\n",
       "        vertical-align: top;\n",
       "    }\n",
       "\n",
       "    .dataframe thead th {\n",
       "        text-align: right;\n",
       "    }\n",
       "</style>\n",
       "<table border=\"1\" class=\"dataframe\">\n",
       "  <thead>\n",
       "    <tr style=\"text-align: right;\">\n",
       "      <th></th>\n",
       "      <th>ExternOrderNo</th>\n",
       "      <th>SKU</th>\n",
       "      <th>Order Qty</th>\n",
       "    </tr>\n",
       "  </thead>\n",
       "  <tbody>\n",
       "    <tr>\n",
       "      <th>0</th>\n",
       "      <td>2001827036</td>\n",
       "      <td>8904223818706</td>\n",
       "      <td>1.00</td>\n",
       "    </tr>\n",
       "    <tr>\n",
       "      <th>1</th>\n",
       "      <td>2001827036</td>\n",
       "      <td>8904223819093</td>\n",
       "      <td>1.00</td>\n",
       "    </tr>\n",
       "    <tr>\n",
       "      <th>2</th>\n",
       "      <td>2001827036</td>\n",
       "      <td>8904223819109</td>\n",
       "      <td>1.00</td>\n",
       "    </tr>\n",
       "    <tr>\n",
       "      <th>3</th>\n",
       "      <td>2001827036</td>\n",
       "      <td>8904223818430</td>\n",
       "      <td>1.00</td>\n",
       "    </tr>\n",
       "    <tr>\n",
       "      <th>4</th>\n",
       "      <td>2001827036</td>\n",
       "      <td>8904223819277</td>\n",
       "      <td>1.00</td>\n",
       "    </tr>\n",
       "  </tbody>\n",
       "</table>\n",
       "</div>"
      ],
      "text/plain": [
       "   ExternOrderNo            SKU  Order Qty\n",
       "0     2001827036  8904223818706       1.00\n",
       "1     2001827036  8904223819093       1.00\n",
       "2     2001827036  8904223819109       1.00\n",
       "3     2001827036  8904223818430       1.00\n",
       "4     2001827036  8904223819277       1.00"
      ]
     },
     "execution_count": 9,
     "metadata": {},
     "output_type": "execute_result"
    }
   ],
   "source": [
    "order_report_df.head()"
   ]
  },
  {
   "cell_type": "code",
   "execution_count": 10,
   "id": "161ae789-7dd3-42e0-99b1-5a158ca97b3f",
   "metadata": {},
   "outputs": [
    {
     "data": {
      "text/plain": [
       "ExternOrderNo    0\n",
       "SKU              0\n",
       "Order Qty        0\n",
       "dtype: int64"
      ]
     },
     "execution_count": 10,
     "metadata": {},
     "output_type": "execute_result"
    }
   ],
   "source": [
    "#Checking null values\n",
    "order_report_df.isnull().sum()"
   ]
  },
  {
   "cell_type": "code",
   "execution_count": 11,
   "id": "3dad61c6-4ce7-48a4-acca-3c7e31a15315",
   "metadata": {},
   "outputs": [
    {
     "data": {
      "text/html": [
       "<div>\n",
       "<style scoped>\n",
       "    .dataframe tbody tr th:only-of-type {\n",
       "        vertical-align: middle;\n",
       "    }\n",
       "\n",
       "    .dataframe tbody tr th {\n",
       "        vertical-align: top;\n",
       "    }\n",
       "\n",
       "    .dataframe thead th {\n",
       "        text-align: right;\n",
       "    }\n",
       "</style>\n",
       "<table border=\"1\" class=\"dataframe\">\n",
       "  <thead>\n",
       "    <tr style=\"text-align: right;\">\n",
       "      <th></th>\n",
       "      <th>ExternOrderNo</th>\n",
       "      <th>SKU</th>\n",
       "      <th>Order Qty</th>\n",
       "    </tr>\n",
       "  </thead>\n",
       "  <tbody>\n",
       "    <tr>\n",
       "      <th>110</th>\n",
       "      <td>2001811363</td>\n",
       "      <td>8904223815859</td>\n",
       "      <td>1.00</td>\n",
       "    </tr>\n",
       "    <tr>\n",
       "      <th>317</th>\n",
       "      <td>2001806885</td>\n",
       "      <td>8904223819499</td>\n",
       "      <td>2.00</td>\n",
       "    </tr>\n",
       "  </tbody>\n",
       "</table>\n",
       "</div>"
      ],
      "text/plain": [
       "     ExternOrderNo            SKU  Order Qty\n",
       "110     2001811363  8904223815859       1.00\n",
       "317     2001806885  8904223819499       2.00"
      ]
     },
     "execution_count": 11,
     "metadata": {},
     "output_type": "execute_result"
    }
   ],
   "source": [
    "order_report_df[order_report_df.duplicated()]"
   ]
  },
  {
   "cell_type": "code",
   "execution_count": 12,
   "id": "f5e3e262-3ed5-45ef-8a5c-99ea0922eec0",
   "metadata": {},
   "outputs": [],
   "source": [
    "#drop duplicates\n",
    "order_report_df.drop_duplicates(inplace=True)"
   ]
  },
  {
   "cell_type": "code",
   "execution_count": 13,
   "id": "cccd94e5-709c-40a4-b08a-fed90e923199",
   "metadata": {},
   "outputs": [
    {
     "data": {
      "text/plain": [
       "0"
      ]
     },
     "execution_count": 13,
     "metadata": {},
     "output_type": "execute_result"
    }
   ],
   "source": [
    "#check duplicates\n",
    "order_report_df.duplicated().sum()"
   ]
  },
  {
   "cell_type": "markdown",
   "id": "dbbfaf1c-a87f-4422-9b18-3f309c62e2f7",
   "metadata": {},
   "source": [
    "# Loading Pincode Zones"
   ]
  },
  {
   "cell_type": "code",
   "execution_count": 14,
   "id": "9a1977c2-6d98-42c4-ad41-e7cf495582c5",
   "metadata": {},
   "outputs": [],
   "source": [
    "pincode_zones_df=pd.read_excel(PINCODE_ZONES_PATH)"
   ]
  },
  {
   "cell_type": "code",
   "execution_count": 15,
   "id": "b60b90af-e2e9-4a46-be3e-029c6d16b6ac",
   "metadata": {},
   "outputs": [
    {
     "data": {
      "text/plain": [
       "(124, 3)"
      ]
     },
     "execution_count": 15,
     "metadata": {},
     "output_type": "execute_result"
    }
   ],
   "source": [
    "pincode_zones_df.shape"
   ]
  },
  {
   "cell_type": "code",
   "execution_count": 16,
   "id": "b3225365-7d45-4e3f-ac2e-b91e1bb38031",
   "metadata": {},
   "outputs": [
    {
     "name": "stdout",
     "output_type": "stream",
     "text": [
      "<class 'pandas.core.frame.DataFrame'>\n",
      "RangeIndex: 124 entries, 0 to 123\n",
      "Data columns (total 3 columns):\n",
      " #   Column             Non-Null Count  Dtype \n",
      "---  ------             --------------  ----- \n",
      " 0   Warehouse Pincode  124 non-null    int64 \n",
      " 1   Customer Pincode   124 non-null    int64 \n",
      " 2   Zone               124 non-null    object\n",
      "dtypes: int64(2), object(1)\n",
      "memory usage: 3.0+ KB\n"
     ]
    }
   ],
   "source": [
    "pincode_zones_df.info()"
   ]
  },
  {
   "cell_type": "code",
   "execution_count": 17,
   "id": "49938191-1598-437d-81da-b6ba34b91c7e",
   "metadata": {},
   "outputs": [
    {
     "data": {
      "text/html": [
       "<div>\n",
       "<style scoped>\n",
       "    .dataframe tbody tr th:only-of-type {\n",
       "        vertical-align: middle;\n",
       "    }\n",
       "\n",
       "    .dataframe tbody tr th {\n",
       "        vertical-align: top;\n",
       "    }\n",
       "\n",
       "    .dataframe thead th {\n",
       "        text-align: right;\n",
       "    }\n",
       "</style>\n",
       "<table border=\"1\" class=\"dataframe\">\n",
       "  <thead>\n",
       "    <tr style=\"text-align: right;\">\n",
       "      <th></th>\n",
       "      <th>Warehouse Pincode</th>\n",
       "      <th>Customer Pincode</th>\n",
       "      <th>Zone</th>\n",
       "    </tr>\n",
       "  </thead>\n",
       "  <tbody>\n",
       "    <tr>\n",
       "      <th>0</th>\n",
       "      <td>121003</td>\n",
       "      <td>507101</td>\n",
       "      <td>d</td>\n",
       "    </tr>\n",
       "    <tr>\n",
       "      <th>1</th>\n",
       "      <td>121003</td>\n",
       "      <td>486886</td>\n",
       "      <td>d</td>\n",
       "    </tr>\n",
       "    <tr>\n",
       "      <th>2</th>\n",
       "      <td>121003</td>\n",
       "      <td>532484</td>\n",
       "      <td>d</td>\n",
       "    </tr>\n",
       "    <tr>\n",
       "      <th>3</th>\n",
       "      <td>121003</td>\n",
       "      <td>143001</td>\n",
       "      <td>b</td>\n",
       "    </tr>\n",
       "    <tr>\n",
       "      <th>4</th>\n",
       "      <td>121003</td>\n",
       "      <td>515591</td>\n",
       "      <td>d</td>\n",
       "    </tr>\n",
       "  </tbody>\n",
       "</table>\n",
       "</div>"
      ],
      "text/plain": [
       "   Warehouse Pincode  Customer Pincode Zone\n",
       "0             121003            507101    d\n",
       "1             121003            486886    d\n",
       "2             121003            532484    d\n",
       "3             121003            143001    b\n",
       "4             121003            515591    d"
      ]
     },
     "execution_count": 17,
     "metadata": {},
     "output_type": "execute_result"
    }
   ],
   "source": [
    "pincode_zones_df.head()"
   ]
  },
  {
   "cell_type": "code",
   "execution_count": 18,
   "id": "410e7706-d30a-4d00-8aff-c880a7344f74",
   "metadata": {},
   "outputs": [
    {
     "data": {
      "text/plain": [
       "Warehouse Pincode    0\n",
       "Customer Pincode     0\n",
       "Zone                 0\n",
       "dtype: int64"
      ]
     },
     "execution_count": 18,
     "metadata": {},
     "output_type": "execute_result"
    }
   ],
   "source": [
    "#Checking null values\n",
    "pincode_zones_df.isnull().sum()"
   ]
  },
  {
   "cell_type": "code",
   "execution_count": 19,
   "id": "0c400184-9406-4c9c-83bf-d2136be67b45",
   "metadata": {},
   "outputs": [
    {
     "data": {
      "text/html": [
       "<div>\n",
       "<style scoped>\n",
       "    .dataframe tbody tr th:only-of-type {\n",
       "        vertical-align: middle;\n",
       "    }\n",
       "\n",
       "    .dataframe tbody tr th {\n",
       "        vertical-align: top;\n",
       "    }\n",
       "\n",
       "    .dataframe thead th {\n",
       "        text-align: right;\n",
       "    }\n",
       "</style>\n",
       "<table border=\"1\" class=\"dataframe\">\n",
       "  <thead>\n",
       "    <tr style=\"text-align: right;\">\n",
       "      <th></th>\n",
       "      <th>Warehouse Pincode</th>\n",
       "      <th>Customer Pincode</th>\n",
       "      <th>Zone</th>\n",
       "    </tr>\n",
       "  </thead>\n",
       "  <tbody>\n",
       "    <tr>\n",
       "      <th>16</th>\n",
       "      <td>121003</td>\n",
       "      <td>140301</td>\n",
       "      <td>b</td>\n",
       "    </tr>\n",
       "    <tr>\n",
       "      <th>50</th>\n",
       "      <td>121003</td>\n",
       "      <td>248001</td>\n",
       "      <td>b</td>\n",
       "    </tr>\n",
       "    <tr>\n",
       "      <th>72</th>\n",
       "      <td>121003</td>\n",
       "      <td>302002</td>\n",
       "      <td>b</td>\n",
       "    </tr>\n",
       "    <tr>\n",
       "      <th>75</th>\n",
       "      <td>121003</td>\n",
       "      <td>302017</td>\n",
       "      <td>b</td>\n",
       "    </tr>\n",
       "    <tr>\n",
       "      <th>77</th>\n",
       "      <td>121003</td>\n",
       "      <td>313001</td>\n",
       "      <td>b</td>\n",
       "    </tr>\n",
       "    <tr>\n",
       "      <th>78</th>\n",
       "      <td>121003</td>\n",
       "      <td>313001</td>\n",
       "      <td>b</td>\n",
       "    </tr>\n",
       "    <tr>\n",
       "      <th>82</th>\n",
       "      <td>121003</td>\n",
       "      <td>313001</td>\n",
       "      <td>b</td>\n",
       "    </tr>\n",
       "    <tr>\n",
       "      <th>90</th>\n",
       "      <td>121003</td>\n",
       "      <td>302017</td>\n",
       "      <td>b</td>\n",
       "    </tr>\n",
       "    <tr>\n",
       "      <th>101</th>\n",
       "      <td>121003</td>\n",
       "      <td>335001</td>\n",
       "      <td>b</td>\n",
       "    </tr>\n",
       "    <tr>\n",
       "      <th>106</th>\n",
       "      <td>121003</td>\n",
       "      <td>302031</td>\n",
       "      <td>b</td>\n",
       "    </tr>\n",
       "    <tr>\n",
       "      <th>113</th>\n",
       "      <td>121003</td>\n",
       "      <td>302017</td>\n",
       "      <td>b</td>\n",
       "    </tr>\n",
       "    <tr>\n",
       "      <th>116</th>\n",
       "      <td>121003</td>\n",
       "      <td>302018</td>\n",
       "      <td>b</td>\n",
       "    </tr>\n",
       "    <tr>\n",
       "      <th>117</th>\n",
       "      <td>121003</td>\n",
       "      <td>302017</td>\n",
       "      <td>b</td>\n",
       "    </tr>\n",
       "    <tr>\n",
       "      <th>118</th>\n",
       "      <td>121003</td>\n",
       "      <td>302012</td>\n",
       "      <td>b</td>\n",
       "    </tr>\n",
       "    <tr>\n",
       "      <th>122</th>\n",
       "      <td>121003</td>\n",
       "      <td>173212</td>\n",
       "      <td>e</td>\n",
       "    </tr>\n",
       "    <tr>\n",
       "      <th>123</th>\n",
       "      <td>121003</td>\n",
       "      <td>302020</td>\n",
       "      <td>b</td>\n",
       "    </tr>\n",
       "  </tbody>\n",
       "</table>\n",
       "</div>"
      ],
      "text/plain": [
       "     Warehouse Pincode  Customer Pincode Zone\n",
       "16              121003            140301    b\n",
       "50              121003            248001    b\n",
       "72              121003            302002    b\n",
       "75              121003            302017    b\n",
       "77              121003            313001    b\n",
       "78              121003            313001    b\n",
       "82              121003            313001    b\n",
       "90              121003            302017    b\n",
       "101             121003            335001    b\n",
       "106             121003            302031    b\n",
       "113             121003            302017    b\n",
       "116             121003            302018    b\n",
       "117             121003            302017    b\n",
       "118             121003            302012    b\n",
       "122             121003            173212    e\n",
       "123             121003            302020    b"
      ]
     },
     "execution_count": 19,
     "metadata": {},
     "output_type": "execute_result"
    }
   ],
   "source": [
    "pincode_zones_df[pincode_zones_df.duplicated()]"
   ]
  },
  {
   "cell_type": "code",
   "execution_count": 20,
   "id": "f22f6b0d-f8ce-42ce-8c14-8cf49431c535",
   "metadata": {},
   "outputs": [],
   "source": [
    "#drop duplicates\n",
    "pincode_zones_df.drop_duplicates(inplace=True)"
   ]
  },
  {
   "cell_type": "code",
   "execution_count": 21,
   "id": "50a32524-fb64-4426-bc25-61590b8059be",
   "metadata": {},
   "outputs": [
    {
     "data": {
      "text/plain": [
       "0"
      ]
     },
     "execution_count": 21,
     "metadata": {},
     "output_type": "execute_result"
    }
   ],
   "source": [
    "#check duplicates\n",
    "pincode_zones_df.duplicated().sum()"
   ]
  },
  {
   "cell_type": "markdown",
   "id": "43ef31b1-c405-493a-82ec-8dd20ba23000",
   "metadata": {},
   "source": [
    "# Loading SKU Master"
   ]
  },
  {
   "cell_type": "code",
   "execution_count": 22,
   "id": "c6d642c8-ac16-4007-84be-e3aca8a25b8d",
   "metadata": {},
   "outputs": [],
   "source": [
    "sku_master_df=pd.read_excel(SKU_MASTER_PATH)"
   ]
  },
  {
   "cell_type": "code",
   "execution_count": 23,
   "id": "7883222e-9d66-41bc-bd31-a988ecd450a1",
   "metadata": {},
   "outputs": [
    {
     "data": {
      "text/plain": [
       "(66, 2)"
      ]
     },
     "execution_count": 23,
     "metadata": {},
     "output_type": "execute_result"
    }
   ],
   "source": [
    "sku_master_df.shape"
   ]
  },
  {
   "cell_type": "code",
   "execution_count": 24,
   "id": "e8cadbd0-6422-4f16-a553-44a965abc796",
   "metadata": {},
   "outputs": [
    {
     "name": "stdout",
     "output_type": "stream",
     "text": [
      "<class 'pandas.core.frame.DataFrame'>\n",
      "RangeIndex: 66 entries, 0 to 65\n",
      "Data columns (total 2 columns):\n",
      " #   Column      Non-Null Count  Dtype \n",
      "---  ------      --------------  ----- \n",
      " 0   SKU         66 non-null     object\n",
      " 1   Weight (g)  66 non-null     int64 \n",
      "dtypes: int64(1), object(1)\n",
      "memory usage: 1.2+ KB\n"
     ]
    }
   ],
   "source": [
    "sku_master_df.info()"
   ]
  },
  {
   "cell_type": "code",
   "execution_count": 25,
   "id": "33eeeb8a-95b7-4a2b-8f8e-2ddd38fc9e39",
   "metadata": {
    "scrolled": true
   },
   "outputs": [
    {
     "data": {
      "text/html": [
       "<div>\n",
       "<style scoped>\n",
       "    .dataframe tbody tr th:only-of-type {\n",
       "        vertical-align: middle;\n",
       "    }\n",
       "\n",
       "    .dataframe tbody tr th {\n",
       "        vertical-align: top;\n",
       "    }\n",
       "\n",
       "    .dataframe thead th {\n",
       "        text-align: right;\n",
       "    }\n",
       "</style>\n",
       "<table border=\"1\" class=\"dataframe\">\n",
       "  <thead>\n",
       "    <tr style=\"text-align: right;\">\n",
       "      <th></th>\n",
       "      <th>SKU</th>\n",
       "      <th>Weight (g)</th>\n",
       "    </tr>\n",
       "  </thead>\n",
       "  <tbody>\n",
       "    <tr>\n",
       "      <th>0</th>\n",
       "      <td>8904223815682</td>\n",
       "      <td>210</td>\n",
       "    </tr>\n",
       "    <tr>\n",
       "      <th>1</th>\n",
       "      <td>8904223815859</td>\n",
       "      <td>165</td>\n",
       "    </tr>\n",
       "    <tr>\n",
       "      <th>2</th>\n",
       "      <td>8904223815866</td>\n",
       "      <td>113</td>\n",
       "    </tr>\n",
       "    <tr>\n",
       "      <th>3</th>\n",
       "      <td>8904223815873</td>\n",
       "      <td>65</td>\n",
       "    </tr>\n",
       "    <tr>\n",
       "      <th>4</th>\n",
       "      <td>8904223816214</td>\n",
       "      <td>120</td>\n",
       "    </tr>\n",
       "  </tbody>\n",
       "</table>\n",
       "</div>"
      ],
      "text/plain": [
       "             SKU  Weight (g)\n",
       "0  8904223815682         210\n",
       "1  8904223815859         165\n",
       "2  8904223815866         113\n",
       "3  8904223815873          65\n",
       "4  8904223816214         120"
      ]
     },
     "execution_count": 25,
     "metadata": {},
     "output_type": "execute_result"
    }
   ],
   "source": [
    "sku_master_df.head()"
   ]
  },
  {
   "cell_type": "code",
   "execution_count": 26,
   "id": "3d828fe4-ba5b-417f-993d-10bd73444fd8",
   "metadata": {},
   "outputs": [
    {
     "data": {
      "text/plain": [
       "SKU           0\n",
       "Weight (g)    0\n",
       "dtype: int64"
      ]
     },
     "execution_count": 26,
     "metadata": {},
     "output_type": "execute_result"
    }
   ],
   "source": [
    "#Checking null values\n",
    "sku_master_df.isnull().sum()"
   ]
  },
  {
   "cell_type": "code",
   "execution_count": 27,
   "id": "81eea6dd-e207-45b3-971b-c3293f9d5995",
   "metadata": {},
   "outputs": [
    {
     "data": {
      "text/html": [
       "<div>\n",
       "<style scoped>\n",
       "    .dataframe tbody tr th:only-of-type {\n",
       "        vertical-align: middle;\n",
       "    }\n",
       "\n",
       "    .dataframe tbody tr th {\n",
       "        vertical-align: top;\n",
       "    }\n",
       "\n",
       "    .dataframe thead th {\n",
       "        text-align: right;\n",
       "    }\n",
       "</style>\n",
       "<table border=\"1\" class=\"dataframe\">\n",
       "  <thead>\n",
       "    <tr style=\"text-align: right;\">\n",
       "      <th></th>\n",
       "      <th>SKU</th>\n",
       "      <th>Weight (g)</th>\n",
       "    </tr>\n",
       "  </thead>\n",
       "  <tbody>\n",
       "    <tr>\n",
       "      <th>56</th>\n",
       "      <td>GIFTBOX202002</td>\n",
       "      <td>500</td>\n",
       "    </tr>\n",
       "  </tbody>\n",
       "</table>\n",
       "</div>"
      ],
      "text/plain": [
       "              SKU  Weight (g)\n",
       "56  GIFTBOX202002         500"
      ]
     },
     "execution_count": 27,
     "metadata": {},
     "output_type": "execute_result"
    }
   ],
   "source": [
    "sku_master_df[sku_master_df.duplicated()]"
   ]
  },
  {
   "cell_type": "code",
   "execution_count": 28,
   "id": "1287f3ec-bd79-4897-b432-0509e943e08c",
   "metadata": {},
   "outputs": [],
   "source": [
    "#drop duplicates\n",
    "sku_master_df.drop_duplicates(inplace=True)"
   ]
  },
  {
   "cell_type": "code",
   "execution_count": 29,
   "id": "6430c1b4-9e7b-440a-89ab-32199c4e5603",
   "metadata": {},
   "outputs": [
    {
     "data": {
      "text/plain": [
       "0"
      ]
     },
     "execution_count": 29,
     "metadata": {},
     "output_type": "execute_result"
    }
   ],
   "source": [
    "#check duplicates\n",
    "sku_master_df.duplicated().sum()"
   ]
  },
  {
   "cell_type": "markdown",
   "id": "04845b06-c6f5-44b3-9fa3-61bdd1283914",
   "metadata": {},
   "source": [
    "# Loading Invoice"
   ]
  },
  {
   "cell_type": "code",
   "execution_count": 30,
   "id": "009e57b5-7427-481e-8dbb-144d43a4c3b4",
   "metadata": {},
   "outputs": [],
   "source": [
    "invoice_df=pd.read_excel(INVOICE_PATH)"
   ]
  },
  {
   "cell_type": "code",
   "execution_count": 31,
   "id": "e5d7d072-c95d-416d-8bc8-af2439aa7d17",
   "metadata": {},
   "outputs": [
    {
     "data": {
      "text/plain": [
       "(124, 8)"
      ]
     },
     "execution_count": 31,
     "metadata": {},
     "output_type": "execute_result"
    }
   ],
   "source": [
    "invoice_df.shape"
   ]
  },
  {
   "cell_type": "code",
   "execution_count": 32,
   "id": "f97ff537-c1d8-43ba-82e8-f494d958c017",
   "metadata": {},
   "outputs": [
    {
     "name": "stdout",
     "output_type": "stream",
     "text": [
      "<class 'pandas.core.frame.DataFrame'>\n",
      "RangeIndex: 124 entries, 0 to 123\n",
      "Data columns (total 8 columns):\n",
      " #   Column                Non-Null Count  Dtype  \n",
      "---  ------                --------------  -----  \n",
      " 0   AWB Code              124 non-null    int64  \n",
      " 1   Order ID              124 non-null    int64  \n",
      " 2   Charged Weight        124 non-null    float64\n",
      " 3   Warehouse Pincode     124 non-null    int64  \n",
      " 4   Customer Pincode      124 non-null    int64  \n",
      " 5   Zone                  124 non-null    object \n",
      " 6   Type of Shipment      124 non-null    object \n",
      " 7   Billing Amount (Rs.)  124 non-null    float64\n",
      "dtypes: float64(2), int64(4), object(2)\n",
      "memory usage: 7.9+ KB\n"
     ]
    }
   ],
   "source": [
    "invoice_df.info()"
   ]
  },
  {
   "cell_type": "code",
   "execution_count": 33,
   "id": "0274ef8e-9a8f-40df-9469-27c89a394123",
   "metadata": {},
   "outputs": [
    {
     "data": {
      "text/html": [
       "<div>\n",
       "<style scoped>\n",
       "    .dataframe tbody tr th:only-of-type {\n",
       "        vertical-align: middle;\n",
       "    }\n",
       "\n",
       "    .dataframe tbody tr th {\n",
       "        vertical-align: top;\n",
       "    }\n",
       "\n",
       "    .dataframe thead th {\n",
       "        text-align: right;\n",
       "    }\n",
       "</style>\n",
       "<table border=\"1\" class=\"dataframe\">\n",
       "  <thead>\n",
       "    <tr style=\"text-align: right;\">\n",
       "      <th></th>\n",
       "      <th>AWB Code</th>\n",
       "      <th>Order ID</th>\n",
       "      <th>Charged Weight</th>\n",
       "      <th>Warehouse Pincode</th>\n",
       "      <th>Customer Pincode</th>\n",
       "      <th>Zone</th>\n",
       "      <th>Type of Shipment</th>\n",
       "      <th>Billing Amount (Rs.)</th>\n",
       "    </tr>\n",
       "  </thead>\n",
       "  <tbody>\n",
       "    <tr>\n",
       "      <th>0</th>\n",
       "      <td>1091117222124</td>\n",
       "      <td>2001806232</td>\n",
       "      <td>1.30</td>\n",
       "      <td>121003</td>\n",
       "      <td>507101</td>\n",
       "      <td>d</td>\n",
       "      <td>Forward charges</td>\n",
       "      <td>135.00</td>\n",
       "    </tr>\n",
       "    <tr>\n",
       "      <th>1</th>\n",
       "      <td>1091117222194</td>\n",
       "      <td>2001806273</td>\n",
       "      <td>1.00</td>\n",
       "      <td>121003</td>\n",
       "      <td>486886</td>\n",
       "      <td>d</td>\n",
       "      <td>Forward charges</td>\n",
       "      <td>90.20</td>\n",
       "    </tr>\n",
       "    <tr>\n",
       "      <th>2</th>\n",
       "      <td>1091117222931</td>\n",
       "      <td>2001806408</td>\n",
       "      <td>2.50</td>\n",
       "      <td>121003</td>\n",
       "      <td>532484</td>\n",
       "      <td>d</td>\n",
       "      <td>Forward charges</td>\n",
       "      <td>224.60</td>\n",
       "    </tr>\n",
       "    <tr>\n",
       "      <th>3</th>\n",
       "      <td>1091117223244</td>\n",
       "      <td>2001806458</td>\n",
       "      <td>1.00</td>\n",
       "      <td>121003</td>\n",
       "      <td>143001</td>\n",
       "      <td>b</td>\n",
       "      <td>Forward charges</td>\n",
       "      <td>61.30</td>\n",
       "    </tr>\n",
       "    <tr>\n",
       "      <th>4</th>\n",
       "      <td>1091117229345</td>\n",
       "      <td>2001807012</td>\n",
       "      <td>0.15</td>\n",
       "      <td>121003</td>\n",
       "      <td>515591</td>\n",
       "      <td>d</td>\n",
       "      <td>Forward charges</td>\n",
       "      <td>45.40</td>\n",
       "    </tr>\n",
       "  </tbody>\n",
       "</table>\n",
       "</div>"
      ],
      "text/plain": [
       "        AWB Code    Order ID  Charged Weight  Warehouse Pincode  \\\n",
       "0  1091117222124  2001806232            1.30             121003   \n",
       "1  1091117222194  2001806273            1.00             121003   \n",
       "2  1091117222931  2001806408            2.50             121003   \n",
       "3  1091117223244  2001806458            1.00             121003   \n",
       "4  1091117229345  2001807012            0.15             121003   \n",
       "\n",
       "   Customer Pincode Zone Type of Shipment  Billing Amount (Rs.)  \n",
       "0            507101    d  Forward charges                135.00  \n",
       "1            486886    d  Forward charges                 90.20  \n",
       "2            532484    d  Forward charges                224.60  \n",
       "3            143001    b  Forward charges                 61.30  \n",
       "4            515591    d  Forward charges                 45.40  "
      ]
     },
     "execution_count": 33,
     "metadata": {},
     "output_type": "execute_result"
    }
   ],
   "source": [
    "invoice_df.head()"
   ]
  },
  {
   "cell_type": "code",
   "execution_count": 34,
   "id": "cf2d9e1e-1fd7-498c-a30a-fef9ebfe8f27",
   "metadata": {},
   "outputs": [
    {
     "data": {
      "text/plain": [
       "AWB Code                0\n",
       "Order ID                0\n",
       "Charged Weight          0\n",
       "Warehouse Pincode       0\n",
       "Customer Pincode        0\n",
       "Zone                    0\n",
       "Type of Shipment        0\n",
       "Billing Amount (Rs.)    0\n",
       "dtype: int64"
      ]
     },
     "execution_count": 34,
     "metadata": {},
     "output_type": "execute_result"
    }
   ],
   "source": [
    "#Checking null values\n",
    "invoice_df.isnull().sum()"
   ]
  },
  {
   "cell_type": "code",
   "execution_count": 35,
   "id": "75cc7c97-3d75-41bf-b0d0-099ef6087634",
   "metadata": {},
   "outputs": [
    {
     "data": {
      "text/html": [
       "<div>\n",
       "<style scoped>\n",
       "    .dataframe tbody tr th:only-of-type {\n",
       "        vertical-align: middle;\n",
       "    }\n",
       "\n",
       "    .dataframe tbody tr th {\n",
       "        vertical-align: top;\n",
       "    }\n",
       "\n",
       "    .dataframe thead th {\n",
       "        text-align: right;\n",
       "    }\n",
       "</style>\n",
       "<table border=\"1\" class=\"dataframe\">\n",
       "  <thead>\n",
       "    <tr style=\"text-align: right;\">\n",
       "      <th></th>\n",
       "      <th>AWB Code</th>\n",
       "      <th>Order ID</th>\n",
       "      <th>Charged Weight</th>\n",
       "      <th>Warehouse Pincode</th>\n",
       "      <th>Customer Pincode</th>\n",
       "      <th>Zone</th>\n",
       "      <th>Type of Shipment</th>\n",
       "      <th>Billing Amount (Rs.)</th>\n",
       "    </tr>\n",
       "  </thead>\n",
       "  <tbody>\n",
       "  </tbody>\n",
       "</table>\n",
       "</div>"
      ],
      "text/plain": [
       "Empty DataFrame\n",
       "Columns: [AWB Code, Order ID, Charged Weight, Warehouse Pincode, Customer Pincode, Zone, Type of Shipment, Billing Amount (Rs.)]\n",
       "Index: []"
      ]
     },
     "execution_count": 35,
     "metadata": {},
     "output_type": "execute_result"
    }
   ],
   "source": [
    "invoice_df[invoice_df.duplicated()]"
   ]
  },
  {
   "cell_type": "code",
   "execution_count": 36,
   "id": "60811d2b-7540-429e-b49e-2c94384270ba",
   "metadata": {},
   "outputs": [],
   "source": [
    "#drop duplicates\n",
    "invoice_df.drop_duplicates(inplace=True)"
   ]
  },
  {
   "cell_type": "code",
   "execution_count": 37,
   "id": "0958d364-0b01-45e2-997e-2e3fe26c1548",
   "metadata": {},
   "outputs": [
    {
     "data": {
      "text/plain": [
       "0"
      ]
     },
     "execution_count": 37,
     "metadata": {},
     "output_type": "execute_result"
    }
   ],
   "source": [
    "#check duplicates\n",
    "invoice_df.duplicated().sum()"
   ]
  },
  {
   "cell_type": "markdown",
   "id": "155c9d23-caec-406f-ae5e-4697f87a3b7d",
   "metadata": {},
   "source": [
    "# Loading Rates"
   ]
  },
  {
   "cell_type": "code",
   "execution_count": 38,
   "id": "d21481a6-ed4f-4aee-abe6-4ae907650816",
   "metadata": {},
   "outputs": [],
   "source": [
    "rates_df=pd.read_excel(RATES_PATH)"
   ]
  },
  {
   "cell_type": "code",
   "execution_count": 39,
   "id": "862822e7-bf0b-4c07-9e26-4051d722073c",
   "metadata": {},
   "outputs": [
    {
     "data": {
      "text/plain": [
       "(5, 6)"
      ]
     },
     "execution_count": 39,
     "metadata": {},
     "output_type": "execute_result"
    }
   ],
   "source": [
    "rates_df.shape"
   ]
  },
  {
   "cell_type": "code",
   "execution_count": 40,
   "id": "1ef789db-1610-4b45-8dac-e7ec96097899",
   "metadata": {},
   "outputs": [
    {
     "name": "stdout",
     "output_type": "stream",
     "text": [
      "<class 'pandas.core.frame.DataFrame'>\n",
      "RangeIndex: 5 entries, 0 to 4\n",
      "Data columns (total 6 columns):\n",
      " #   Column                                 Non-Null Count  Dtype  \n",
      "---  ------                                 --------------  -----  \n",
      " 0   Zone                                   5 non-null      object \n",
      " 1   Weight Slabs                           5 non-null      float64\n",
      " 2   Forward Fixed Charge                   5 non-null      float64\n",
      " 3   Forward Additional Weight Slab Charge  5 non-null      float64\n",
      " 4   RTO Fixed Charge                       5 non-null      float64\n",
      " 5   RTO Additional Weight Slab Charge      5 non-null      float64\n",
      "dtypes: float64(5), object(1)\n",
      "memory usage: 368.0+ bytes\n"
     ]
    }
   ],
   "source": [
    "rates_df.info()"
   ]
  },
  {
   "cell_type": "code",
   "execution_count": 41,
   "id": "0341ebc6-37ce-467b-a9bb-5b53f13f888a",
   "metadata": {
    "scrolled": true
   },
   "outputs": [
    {
     "data": {
      "text/html": [
       "<div>\n",
       "<style scoped>\n",
       "    .dataframe tbody tr th:only-of-type {\n",
       "        vertical-align: middle;\n",
       "    }\n",
       "\n",
       "    .dataframe tbody tr th {\n",
       "        vertical-align: top;\n",
       "    }\n",
       "\n",
       "    .dataframe thead th {\n",
       "        text-align: right;\n",
       "    }\n",
       "</style>\n",
       "<table border=\"1\" class=\"dataframe\">\n",
       "  <thead>\n",
       "    <tr style=\"text-align: right;\">\n",
       "      <th></th>\n",
       "      <th>Zone</th>\n",
       "      <th>Weight Slabs</th>\n",
       "      <th>Forward Fixed Charge</th>\n",
       "      <th>Forward Additional Weight Slab Charge</th>\n",
       "      <th>RTO Fixed Charge</th>\n",
       "      <th>RTO Additional Weight Slab Charge</th>\n",
       "    </tr>\n",
       "  </thead>\n",
       "  <tbody>\n",
       "    <tr>\n",
       "      <th>0</th>\n",
       "      <td>A</td>\n",
       "      <td>0.50</td>\n",
       "      <td>29.50</td>\n",
       "      <td>23.60</td>\n",
       "      <td>13.60</td>\n",
       "      <td>23.60</td>\n",
       "    </tr>\n",
       "    <tr>\n",
       "      <th>1</th>\n",
       "      <td>B</td>\n",
       "      <td>1.00</td>\n",
       "      <td>33.00</td>\n",
       "      <td>28.30</td>\n",
       "      <td>20.50</td>\n",
       "      <td>28.30</td>\n",
       "    </tr>\n",
       "    <tr>\n",
       "      <th>2</th>\n",
       "      <td>C</td>\n",
       "      <td>1.25</td>\n",
       "      <td>40.10</td>\n",
       "      <td>38.90</td>\n",
       "      <td>31.90</td>\n",
       "      <td>38.90</td>\n",
       "    </tr>\n",
       "    <tr>\n",
       "      <th>3</th>\n",
       "      <td>D</td>\n",
       "      <td>1.50</td>\n",
       "      <td>45.40</td>\n",
       "      <td>44.80</td>\n",
       "      <td>41.30</td>\n",
       "      <td>44.80</td>\n",
       "    </tr>\n",
       "    <tr>\n",
       "      <th>4</th>\n",
       "      <td>E</td>\n",
       "      <td>2.00</td>\n",
       "      <td>56.60</td>\n",
       "      <td>55.50</td>\n",
       "      <td>50.70</td>\n",
       "      <td>55.50</td>\n",
       "    </tr>\n",
       "  </tbody>\n",
       "</table>\n",
       "</div>"
      ],
      "text/plain": [
       "  Zone  Weight Slabs  Forward Fixed Charge  \\\n",
       "0    A          0.50                 29.50   \n",
       "1    B          1.00                 33.00   \n",
       "2    C          1.25                 40.10   \n",
       "3    D          1.50                 45.40   \n",
       "4    E          2.00                 56.60   \n",
       "\n",
       "   Forward Additional Weight Slab Charge  RTO Fixed Charge  \\\n",
       "0                                  23.60             13.60   \n",
       "1                                  28.30             20.50   \n",
       "2                                  38.90             31.90   \n",
       "3                                  44.80             41.30   \n",
       "4                                  55.50             50.70   \n",
       "\n",
       "   RTO Additional Weight Slab Charge  \n",
       "0                              23.60  \n",
       "1                              28.30  \n",
       "2                              38.90  \n",
       "3                              44.80  \n",
       "4                              55.50  "
      ]
     },
     "execution_count": 41,
     "metadata": {},
     "output_type": "execute_result"
    }
   ],
   "source": [
    "rates_df.head()"
   ]
  },
  {
   "cell_type": "code",
   "execution_count": 42,
   "id": "5296a37e-e757-416c-954a-324de3bf797b",
   "metadata": {},
   "outputs": [],
   "source": [
    "rates_df['Zone'] = rates_df['Zone'].apply(lambda x:x.lower())"
   ]
  },
  {
   "cell_type": "code",
   "execution_count": 43,
   "id": "b4b6fb4f-c1b6-4d56-8800-d8068d842f21",
   "metadata": {},
   "outputs": [
    {
     "data": {
      "text/html": [
       "<div>\n",
       "<style scoped>\n",
       "    .dataframe tbody tr th:only-of-type {\n",
       "        vertical-align: middle;\n",
       "    }\n",
       "\n",
       "    .dataframe tbody tr th {\n",
       "        vertical-align: top;\n",
       "    }\n",
       "\n",
       "    .dataframe thead th {\n",
       "        text-align: right;\n",
       "    }\n",
       "</style>\n",
       "<table border=\"1\" class=\"dataframe\">\n",
       "  <thead>\n",
       "    <tr style=\"text-align: right;\">\n",
       "      <th></th>\n",
       "      <th>Zone</th>\n",
       "      <th>Weight Slabs</th>\n",
       "      <th>Forward Fixed Charge</th>\n",
       "      <th>Forward Additional Weight Slab Charge</th>\n",
       "      <th>RTO Fixed Charge</th>\n",
       "      <th>RTO Additional Weight Slab Charge</th>\n",
       "    </tr>\n",
       "  </thead>\n",
       "  <tbody>\n",
       "    <tr>\n",
       "      <th>0</th>\n",
       "      <td>a</td>\n",
       "      <td>0.50</td>\n",
       "      <td>29.50</td>\n",
       "      <td>23.60</td>\n",
       "      <td>13.60</td>\n",
       "      <td>23.60</td>\n",
       "    </tr>\n",
       "    <tr>\n",
       "      <th>1</th>\n",
       "      <td>b</td>\n",
       "      <td>1.00</td>\n",
       "      <td>33.00</td>\n",
       "      <td>28.30</td>\n",
       "      <td>20.50</td>\n",
       "      <td>28.30</td>\n",
       "    </tr>\n",
       "    <tr>\n",
       "      <th>2</th>\n",
       "      <td>c</td>\n",
       "      <td>1.25</td>\n",
       "      <td>40.10</td>\n",
       "      <td>38.90</td>\n",
       "      <td>31.90</td>\n",
       "      <td>38.90</td>\n",
       "    </tr>\n",
       "    <tr>\n",
       "      <th>3</th>\n",
       "      <td>d</td>\n",
       "      <td>1.50</td>\n",
       "      <td>45.40</td>\n",
       "      <td>44.80</td>\n",
       "      <td>41.30</td>\n",
       "      <td>44.80</td>\n",
       "    </tr>\n",
       "    <tr>\n",
       "      <th>4</th>\n",
       "      <td>e</td>\n",
       "      <td>2.00</td>\n",
       "      <td>56.60</td>\n",
       "      <td>55.50</td>\n",
       "      <td>50.70</td>\n",
       "      <td>55.50</td>\n",
       "    </tr>\n",
       "  </tbody>\n",
       "</table>\n",
       "</div>"
      ],
      "text/plain": [
       "  Zone  Weight Slabs  Forward Fixed Charge  \\\n",
       "0    a          0.50                 29.50   \n",
       "1    b          1.00                 33.00   \n",
       "2    c          1.25                 40.10   \n",
       "3    d          1.50                 45.40   \n",
       "4    e          2.00                 56.60   \n",
       "\n",
       "   Forward Additional Weight Slab Charge  RTO Fixed Charge  \\\n",
       "0                                  23.60             13.60   \n",
       "1                                  28.30             20.50   \n",
       "2                                  38.90             31.90   \n",
       "3                                  44.80             41.30   \n",
       "4                                  55.50             50.70   \n",
       "\n",
       "   RTO Additional Weight Slab Charge  \n",
       "0                              23.60  \n",
       "1                              28.30  \n",
       "2                              38.90  \n",
       "3                              44.80  \n",
       "4                              55.50  "
      ]
     },
     "execution_count": 43,
     "metadata": {},
     "output_type": "execute_result"
    }
   ],
   "source": [
    "rates_df.head()"
   ]
  },
  {
   "cell_type": "code",
   "execution_count": 44,
   "id": "1db9d5dc-adc9-498f-8f0f-a131abe0a9cb",
   "metadata": {},
   "outputs": [
    {
     "data": {
      "text/plain": [
       "Zone                                     0\n",
       "Weight Slabs                             0\n",
       "Forward Fixed Charge                     0\n",
       "Forward Additional Weight Slab Charge    0\n",
       "RTO Fixed Charge                         0\n",
       "RTO Additional Weight Slab Charge        0\n",
       "dtype: int64"
      ]
     },
     "execution_count": 44,
     "metadata": {},
     "output_type": "execute_result"
    }
   ],
   "source": [
    "#Checking null values\n",
    "rates_df.isnull().sum()"
   ]
  },
  {
   "cell_type": "code",
   "execution_count": 45,
   "id": "84f34be3-f58c-4a58-8df8-365d9e50f9ac",
   "metadata": {},
   "outputs": [
    {
     "data": {
      "text/html": [
       "<div>\n",
       "<style scoped>\n",
       "    .dataframe tbody tr th:only-of-type {\n",
       "        vertical-align: middle;\n",
       "    }\n",
       "\n",
       "    .dataframe tbody tr th {\n",
       "        vertical-align: top;\n",
       "    }\n",
       "\n",
       "    .dataframe thead th {\n",
       "        text-align: right;\n",
       "    }\n",
       "</style>\n",
       "<table border=\"1\" class=\"dataframe\">\n",
       "  <thead>\n",
       "    <tr style=\"text-align: right;\">\n",
       "      <th></th>\n",
       "      <th>Zone</th>\n",
       "      <th>Weight Slabs</th>\n",
       "      <th>Forward Fixed Charge</th>\n",
       "      <th>Forward Additional Weight Slab Charge</th>\n",
       "      <th>RTO Fixed Charge</th>\n",
       "      <th>RTO Additional Weight Slab Charge</th>\n",
       "    </tr>\n",
       "  </thead>\n",
       "  <tbody>\n",
       "  </tbody>\n",
       "</table>\n",
       "</div>"
      ],
      "text/plain": [
       "Empty DataFrame\n",
       "Columns: [Zone, Weight Slabs, Forward Fixed Charge, Forward Additional Weight Slab Charge, RTO Fixed Charge, RTO Additional Weight Slab Charge]\n",
       "Index: []"
      ]
     },
     "execution_count": 45,
     "metadata": {},
     "output_type": "execute_result"
    }
   ],
   "source": [
    "rates_df[rates_df.duplicated()]"
   ]
  },
  {
   "cell_type": "code",
   "execution_count": 46,
   "id": "11db0582-3411-449f-82a0-687edb9a91cf",
   "metadata": {},
   "outputs": [],
   "source": [
    "#drop duplicates\n",
    "rates_df.drop_duplicates(inplace=True)"
   ]
  },
  {
   "cell_type": "code",
   "execution_count": 47,
   "id": "2ded0788-3764-4b2d-8bb2-8823eb579e6d",
   "metadata": {},
   "outputs": [
    {
     "data": {
      "text/plain": [
       "0"
      ]
     },
     "execution_count": 47,
     "metadata": {},
     "output_type": "execute_result"
    }
   ],
   "source": [
    "#check duplicates\n",
    "rates_df.duplicated().sum()"
   ]
  },
  {
   "cell_type": "markdown",
   "id": "d9189d34-97de-4518-85ed-a63b8d3b81c0",
   "metadata": {},
   "source": [
    "# Creating Output Data 1"
   ]
  },
  {
   "cell_type": "markdown",
   "id": "c04140ec-aef6-4213-abb8-e71905801a54",
   "metadata": {},
   "source": [
    "## Merge dataframe of website order and SKU master which has SKU column common"
   ]
  },
  {
   "cell_type": "code",
   "execution_count": 48,
   "id": "e7700949-d737-4db2-b731-0a8a908f0718",
   "metadata": {},
   "outputs": [],
   "source": [
    "merged_df=pd.merge(order_report_df,sku_master_df,how=\"left\",on=\"SKU\")"
   ]
  },
  {
   "cell_type": "code",
   "execution_count": 49,
   "id": "65b8d576-3ba2-4f8b-ac79-f1e5cf72105b",
   "metadata": {},
   "outputs": [
    {
     "data": {
      "text/html": [
       "<div>\n",
       "<style scoped>\n",
       "    .dataframe tbody tr th:only-of-type {\n",
       "        vertical-align: middle;\n",
       "    }\n",
       "\n",
       "    .dataframe tbody tr th {\n",
       "        vertical-align: top;\n",
       "    }\n",
       "\n",
       "    .dataframe thead th {\n",
       "        text-align: right;\n",
       "    }\n",
       "</style>\n",
       "<table border=\"1\" class=\"dataframe\">\n",
       "  <thead>\n",
       "    <tr style=\"text-align: right;\">\n",
       "      <th></th>\n",
       "      <th>ExternOrderNo</th>\n",
       "      <th>SKU</th>\n",
       "      <th>Order Qty</th>\n",
       "      <th>Weight (g)</th>\n",
       "    </tr>\n",
       "  </thead>\n",
       "  <tbody>\n",
       "    <tr>\n",
       "      <th>0</th>\n",
       "      <td>2001827036</td>\n",
       "      <td>8904223818706</td>\n",
       "      <td>1.00</td>\n",
       "      <td>127</td>\n",
       "    </tr>\n",
       "    <tr>\n",
       "      <th>1</th>\n",
       "      <td>2001827036</td>\n",
       "      <td>8904223819093</td>\n",
       "      <td>1.00</td>\n",
       "      <td>150</td>\n",
       "    </tr>\n",
       "    <tr>\n",
       "      <th>2</th>\n",
       "      <td>2001827036</td>\n",
       "      <td>8904223819109</td>\n",
       "      <td>1.00</td>\n",
       "      <td>100</td>\n",
       "    </tr>\n",
       "    <tr>\n",
       "      <th>3</th>\n",
       "      <td>2001827036</td>\n",
       "      <td>8904223818430</td>\n",
       "      <td>1.00</td>\n",
       "      <td>165</td>\n",
       "    </tr>\n",
       "    <tr>\n",
       "      <th>4</th>\n",
       "      <td>2001827036</td>\n",
       "      <td>8904223819277</td>\n",
       "      <td>1.00</td>\n",
       "      <td>350</td>\n",
       "    </tr>\n",
       "  </tbody>\n",
       "</table>\n",
       "</div>"
      ],
      "text/plain": [
       "   ExternOrderNo            SKU  Order Qty  Weight (g)\n",
       "0     2001827036  8904223818706       1.00         127\n",
       "1     2001827036  8904223819093       1.00         150\n",
       "2     2001827036  8904223819109       1.00         100\n",
       "3     2001827036  8904223818430       1.00         165\n",
       "4     2001827036  8904223819277       1.00         350"
      ]
     },
     "execution_count": 49,
     "metadata": {},
     "output_type": "execute_result"
    }
   ],
   "source": [
    "merged_df.head()"
   ]
  },
  {
   "cell_type": "code",
   "execution_count": 50,
   "id": "b6344b85-1997-4554-a730-508ec96fb2c6",
   "metadata": {},
   "outputs": [
    {
     "data": {
      "text/plain": [
       "ExternOrderNo    0\n",
       "SKU              0\n",
       "Order Qty        0\n",
       "Weight (g)       0\n",
       "dtype: int64"
      ]
     },
     "execution_count": 50,
     "metadata": {},
     "output_type": "execute_result"
    }
   ],
   "source": [
    "merged_df.isnull().sum()"
   ]
  },
  {
   "cell_type": "code",
   "execution_count": 51,
   "id": "2c205fa3-d70e-46a4-af9e-012302daea7f",
   "metadata": {},
   "outputs": [
    {
     "data": {
      "text/html": [
       "<div>\n",
       "<style scoped>\n",
       "    .dataframe tbody tr th:only-of-type {\n",
       "        vertical-align: middle;\n",
       "    }\n",
       "\n",
       "    .dataframe tbody tr th {\n",
       "        vertical-align: top;\n",
       "    }\n",
       "\n",
       "    .dataframe thead th {\n",
       "        text-align: right;\n",
       "    }\n",
       "</style>\n",
       "<table border=\"1\" class=\"dataframe\">\n",
       "  <thead>\n",
       "    <tr style=\"text-align: right;\">\n",
       "      <th></th>\n",
       "      <th>ExternOrderNo</th>\n",
       "      <th>SKU</th>\n",
       "      <th>Order Qty</th>\n",
       "      <th>Weight (g)</th>\n",
       "    </tr>\n",
       "  </thead>\n",
       "  <tbody>\n",
       "  </tbody>\n",
       "</table>\n",
       "</div>"
      ],
      "text/plain": [
       "Empty DataFrame\n",
       "Columns: [ExternOrderNo, SKU, Order Qty, Weight (g)]\n",
       "Index: []"
      ]
     },
     "execution_count": 51,
     "metadata": {},
     "output_type": "execute_result"
    }
   ],
   "source": [
    "merged_df[merged_df.duplicated()]"
   ]
  },
  {
   "cell_type": "markdown",
   "id": "ed97edae-76d3-4525-82d1-2eaaa05c9e0f",
   "metadata": {},
   "source": [
    "## Creating Total Weight (kg) column"
   ]
  },
  {
   "cell_type": "code",
   "execution_count": 52,
   "id": "c3df1cb1-143f-4e28-a8f3-e311d38140dd",
   "metadata": {},
   "outputs": [],
   "source": [
    "merged_df['Total weight as per X (KG)']=(merged_df['Order Qty']*merged_df['Weight (g)'])/1000"
   ]
  },
  {
   "cell_type": "code",
   "execution_count": 53,
   "id": "0e6efc01-602d-4ba8-afe0-3c3d74887371",
   "metadata": {},
   "outputs": [],
   "source": [
    "merged_df = merged_df.round({'Total weight as per X (KG)': 2})"
   ]
  },
  {
   "cell_type": "code",
   "execution_count": 54,
   "id": "36685d4f-ebc7-4fd5-ad5b-7e2bd05d436d",
   "metadata": {},
   "outputs": [
    {
     "data": {
      "text/html": [
       "<div>\n",
       "<style scoped>\n",
       "    .dataframe tbody tr th:only-of-type {\n",
       "        vertical-align: middle;\n",
       "    }\n",
       "\n",
       "    .dataframe tbody tr th {\n",
       "        vertical-align: top;\n",
       "    }\n",
       "\n",
       "    .dataframe thead th {\n",
       "        text-align: right;\n",
       "    }\n",
       "</style>\n",
       "<table border=\"1\" class=\"dataframe\">\n",
       "  <thead>\n",
       "    <tr style=\"text-align: right;\">\n",
       "      <th></th>\n",
       "      <th>ExternOrderNo</th>\n",
       "      <th>SKU</th>\n",
       "      <th>Order Qty</th>\n",
       "      <th>Weight (g)</th>\n",
       "      <th>Total weight as per X (KG)</th>\n",
       "    </tr>\n",
       "  </thead>\n",
       "  <tbody>\n",
       "    <tr>\n",
       "      <th>0</th>\n",
       "      <td>2001827036</td>\n",
       "      <td>8904223818706</td>\n",
       "      <td>1.00</td>\n",
       "      <td>127</td>\n",
       "      <td>0.13</td>\n",
       "    </tr>\n",
       "    <tr>\n",
       "      <th>1</th>\n",
       "      <td>2001827036</td>\n",
       "      <td>8904223819093</td>\n",
       "      <td>1.00</td>\n",
       "      <td>150</td>\n",
       "      <td>0.15</td>\n",
       "    </tr>\n",
       "    <tr>\n",
       "      <th>2</th>\n",
       "      <td>2001827036</td>\n",
       "      <td>8904223819109</td>\n",
       "      <td>1.00</td>\n",
       "      <td>100</td>\n",
       "      <td>0.10</td>\n",
       "    </tr>\n",
       "    <tr>\n",
       "      <th>3</th>\n",
       "      <td>2001827036</td>\n",
       "      <td>8904223818430</td>\n",
       "      <td>1.00</td>\n",
       "      <td>165</td>\n",
       "      <td>0.16</td>\n",
       "    </tr>\n",
       "    <tr>\n",
       "      <th>4</th>\n",
       "      <td>2001827036</td>\n",
       "      <td>8904223819277</td>\n",
       "      <td>1.00</td>\n",
       "      <td>350</td>\n",
       "      <td>0.35</td>\n",
       "    </tr>\n",
       "  </tbody>\n",
       "</table>\n",
       "</div>"
      ],
      "text/plain": [
       "   ExternOrderNo            SKU  Order Qty  Weight (g)  \\\n",
       "0     2001827036  8904223818706       1.00         127   \n",
       "1     2001827036  8904223819093       1.00         150   \n",
       "2     2001827036  8904223819109       1.00         100   \n",
       "3     2001827036  8904223818430       1.00         165   \n",
       "4     2001827036  8904223819277       1.00         350   \n",
       "\n",
       "   Total weight as per X (KG)  \n",
       "0                        0.13  \n",
       "1                        0.15  \n",
       "2                        0.10  \n",
       "3                        0.16  \n",
       "4                        0.35  "
      ]
     },
     "execution_count": 54,
     "metadata": {},
     "output_type": "execute_result"
    }
   ],
   "source": [
    "merged_df.head()"
   ]
  },
  {
   "cell_type": "code",
   "execution_count": 55,
   "id": "4ba6818c-2668-45ba-a429-eb13b23d7c35",
   "metadata": {},
   "outputs": [
    {
     "data": {
      "text/html": [
       "<div>\n",
       "<style scoped>\n",
       "    .dataframe tbody tr th:only-of-type {\n",
       "        vertical-align: middle;\n",
       "    }\n",
       "\n",
       "    .dataframe tbody tr th {\n",
       "        vertical-align: top;\n",
       "    }\n",
       "\n",
       "    .dataframe thead th {\n",
       "        text-align: right;\n",
       "    }\n",
       "</style>\n",
       "<table border=\"1\" class=\"dataframe\">\n",
       "  <thead>\n",
       "    <tr style=\"text-align: right;\">\n",
       "      <th></th>\n",
       "      <th>ExternOrderNo</th>\n",
       "      <th>SKU</th>\n",
       "      <th>Order Qty</th>\n",
       "      <th>Weight (g)</th>\n",
       "      <th>Total weight as per X (KG)</th>\n",
       "    </tr>\n",
       "  </thead>\n",
       "  <tbody>\n",
       "    <tr>\n",
       "      <th>121</th>\n",
       "      <td>2001811192</td>\n",
       "      <td>8904223816214</td>\n",
       "      <td>1.00</td>\n",
       "      <td>120</td>\n",
       "      <td>0.12</td>\n",
       "    </tr>\n",
       "    <tr>\n",
       "      <th>122</th>\n",
       "      <td>2001811192</td>\n",
       "      <td>8904223818874</td>\n",
       "      <td>1.00</td>\n",
       "      <td>100</td>\n",
       "      <td>0.10</td>\n",
       "    </tr>\n",
       "    <tr>\n",
       "      <th>123</th>\n",
       "      <td>2001811192</td>\n",
       "      <td>8904223818881</td>\n",
       "      <td>1.00</td>\n",
       "      <td>140</td>\n",
       "      <td>0.14</td>\n",
       "    </tr>\n",
       "    <tr>\n",
       "      <th>124</th>\n",
       "      <td>2001811192</td>\n",
       "      <td>8904223819291</td>\n",
       "      <td>2.00</td>\n",
       "      <td>112</td>\n",
       "      <td>0.22</td>\n",
       "    </tr>\n",
       "    <tr>\n",
       "      <th>125</th>\n",
       "      <td>2001811192</td>\n",
       "      <td>8904223819031</td>\n",
       "      <td>2.00</td>\n",
       "      <td>112</td>\n",
       "      <td>0.22</td>\n",
       "    </tr>\n",
       "    <tr>\n",
       "      <th>126</th>\n",
       "      <td>2001811192</td>\n",
       "      <td>8904223819024</td>\n",
       "      <td>2.00</td>\n",
       "      <td>112</td>\n",
       "      <td>0.22</td>\n",
       "    </tr>\n",
       "  </tbody>\n",
       "</table>\n",
       "</div>"
      ],
      "text/plain": [
       "     ExternOrderNo            SKU  Order Qty  Weight (g)  \\\n",
       "121     2001811192  8904223816214       1.00         120   \n",
       "122     2001811192  8904223818874       1.00         100   \n",
       "123     2001811192  8904223818881       1.00         140   \n",
       "124     2001811192  8904223819291       2.00         112   \n",
       "125     2001811192  8904223819031       2.00         112   \n",
       "126     2001811192  8904223819024       2.00         112   \n",
       "\n",
       "     Total weight as per X (KG)  \n",
       "121                        0.12  \n",
       "122                        0.10  \n",
       "123                        0.14  \n",
       "124                        0.22  \n",
       "125                        0.22  \n",
       "126                        0.22  "
      ]
     },
     "execution_count": 55,
     "metadata": {},
     "output_type": "execute_result"
    }
   ],
   "source": [
    "# verifiying for one sample order ID\n",
    "merged_df[merged_df['ExternOrderNo']==2001811192]"
   ]
  },
  {
   "cell_type": "code",
   "execution_count": 56,
   "id": "546eecdf-9f51-4c2e-bdf7-cf1deef23aee",
   "metadata": {},
   "outputs": [],
   "source": [
    "## group by Extern Order No\n",
    "temp=merged_df.groupby(['ExternOrderNo'])['Total weight as per X (KG)'].agg('sum').reset_index()\n",
    "temp\n",
    "merged_df=temp.reset_index()"
   ]
  },
  {
   "cell_type": "code",
   "execution_count": 57,
   "id": "bb3cdc8c-b004-4edd-a5d9-80f5b4d655f4",
   "metadata": {},
   "outputs": [
    {
     "data": {
      "text/html": [
       "<div>\n",
       "<style scoped>\n",
       "    .dataframe tbody tr th:only-of-type {\n",
       "        vertical-align: middle;\n",
       "    }\n",
       "\n",
       "    .dataframe tbody tr th {\n",
       "        vertical-align: top;\n",
       "    }\n",
       "\n",
       "    .dataframe thead th {\n",
       "        text-align: right;\n",
       "    }\n",
       "</style>\n",
       "<table border=\"1\" class=\"dataframe\">\n",
       "  <thead>\n",
       "    <tr style=\"text-align: right;\">\n",
       "      <th></th>\n",
       "      <th>index</th>\n",
       "      <th>ExternOrderNo</th>\n",
       "      <th>Total weight as per X (KG)</th>\n",
       "    </tr>\n",
       "  </thead>\n",
       "  <tbody>\n",
       "    <tr>\n",
       "      <th>0</th>\n",
       "      <td>0</td>\n",
       "      <td>2001806210</td>\n",
       "      <td>0.22</td>\n",
       "    </tr>\n",
       "    <tr>\n",
       "      <th>1</th>\n",
       "      <td>1</td>\n",
       "      <td>2001806226</td>\n",
       "      <td>0.48</td>\n",
       "    </tr>\n",
       "    <tr>\n",
       "      <th>2</th>\n",
       "      <td>2</td>\n",
       "      <td>2001806229</td>\n",
       "      <td>0.50</td>\n",
       "    </tr>\n",
       "    <tr>\n",
       "      <th>3</th>\n",
       "      <td>3</td>\n",
       "      <td>2001806232</td>\n",
       "      <td>1.30</td>\n",
       "    </tr>\n",
       "    <tr>\n",
       "      <th>4</th>\n",
       "      <td>4</td>\n",
       "      <td>2001806233</td>\n",
       "      <td>0.25</td>\n",
       "    </tr>\n",
       "  </tbody>\n",
       "</table>\n",
       "</div>"
      ],
      "text/plain": [
       "   index  ExternOrderNo  Total weight as per X (KG)\n",
       "0      0     2001806210                        0.22\n",
       "1      1     2001806226                        0.48\n",
       "2      2     2001806229                        0.50\n",
       "3      3     2001806232                        1.30\n",
       "4      4     2001806233                        0.25"
      ]
     },
     "execution_count": 57,
     "metadata": {},
     "output_type": "execute_result"
    }
   ],
   "source": [
    "merged_df.head()"
   ]
  },
  {
   "cell_type": "code",
   "execution_count": 58,
   "id": "88b77293-cccd-42a1-9020-d3742e4d6625",
   "metadata": {},
   "outputs": [
    {
     "name": "stdout",
     "output_type": "stream",
     "text": [
      "<class 'pandas.core.frame.DataFrame'>\n",
      "RangeIndex: 124 entries, 0 to 123\n",
      "Data columns (total 3 columns):\n",
      " #   Column                      Non-Null Count  Dtype  \n",
      "---  ------                      --------------  -----  \n",
      " 0   index                       124 non-null    int64  \n",
      " 1   ExternOrderNo               124 non-null    int64  \n",
      " 2   Total weight as per X (KG)  124 non-null    float64\n",
      "dtypes: float64(1), int64(2)\n",
      "memory usage: 3.0 KB\n"
     ]
    }
   ],
   "source": [
    "merged_df.info()"
   ]
  },
  {
   "cell_type": "markdown",
   "id": "539c7baa-21d7-4b4a-b449-e55e1430f085",
   "metadata": {},
   "source": [
    "## Joining the merged dataframe with Invoice data frame"
   ]
  },
  {
   "cell_type": "code",
   "execution_count": 59,
   "id": "b14a28c3-3547-471c-b77a-ae75a91bcb1a",
   "metadata": {},
   "outputs": [],
   "source": [
    "merged_df=pd.merge(merged_df,invoice_df,how=\"left\",left_on=\"ExternOrderNo\",right_on=\"Order ID\")"
   ]
  },
  {
   "cell_type": "code",
   "execution_count": 60,
   "id": "2b0ce964-0151-4795-8218-4921ee8f72d6",
   "metadata": {},
   "outputs": [
    {
     "data": {
      "text/html": [
       "<div>\n",
       "<style scoped>\n",
       "    .dataframe tbody tr th:only-of-type {\n",
       "        vertical-align: middle;\n",
       "    }\n",
       "\n",
       "    .dataframe tbody tr th {\n",
       "        vertical-align: top;\n",
       "    }\n",
       "\n",
       "    .dataframe thead th {\n",
       "        text-align: right;\n",
       "    }\n",
       "</style>\n",
       "<table border=\"1\" class=\"dataframe\">\n",
       "  <thead>\n",
       "    <tr style=\"text-align: right;\">\n",
       "      <th></th>\n",
       "      <th>index</th>\n",
       "      <th>ExternOrderNo</th>\n",
       "      <th>Total weight as per X (KG)</th>\n",
       "      <th>AWB Code</th>\n",
       "      <th>Order ID</th>\n",
       "      <th>Charged Weight</th>\n",
       "      <th>Warehouse Pincode</th>\n",
       "      <th>Customer Pincode</th>\n",
       "      <th>Zone</th>\n",
       "      <th>Type of Shipment</th>\n",
       "      <th>Billing Amount (Rs.)</th>\n",
       "    </tr>\n",
       "  </thead>\n",
       "  <tbody>\n",
       "    <tr>\n",
       "      <th>0</th>\n",
       "      <td>0</td>\n",
       "      <td>2001806210</td>\n",
       "      <td>0.22</td>\n",
       "      <td>1091117221940</td>\n",
       "      <td>2001806210</td>\n",
       "      <td>2.92</td>\n",
       "      <td>121003</td>\n",
       "      <td>140604</td>\n",
       "      <td>b</td>\n",
       "      <td>Forward charges</td>\n",
       "      <td>174.50</td>\n",
       "    </tr>\n",
       "    <tr>\n",
       "      <th>1</th>\n",
       "      <td>1</td>\n",
       "      <td>2001806226</td>\n",
       "      <td>0.48</td>\n",
       "      <td>1091117222065</td>\n",
       "      <td>2001806226</td>\n",
       "      <td>0.68</td>\n",
       "      <td>121003</td>\n",
       "      <td>723146</td>\n",
       "      <td>d</td>\n",
       "      <td>Forward charges</td>\n",
       "      <td>90.20</td>\n",
       "    </tr>\n",
       "    <tr>\n",
       "      <th>2</th>\n",
       "      <td>2</td>\n",
       "      <td>2001806229</td>\n",
       "      <td>0.50</td>\n",
       "      <td>1091117222080</td>\n",
       "      <td>2001806229</td>\n",
       "      <td>0.71</td>\n",
       "      <td>121003</td>\n",
       "      <td>421204</td>\n",
       "      <td>d</td>\n",
       "      <td>Forward charges</td>\n",
       "      <td>90.20</td>\n",
       "    </tr>\n",
       "    <tr>\n",
       "      <th>3</th>\n",
       "      <td>3</td>\n",
       "      <td>2001806232</td>\n",
       "      <td>1.30</td>\n",
       "      <td>1091117222124</td>\n",
       "      <td>2001806232</td>\n",
       "      <td>1.30</td>\n",
       "      <td>121003</td>\n",
       "      <td>507101</td>\n",
       "      <td>d</td>\n",
       "      <td>Forward charges</td>\n",
       "      <td>135.00</td>\n",
       "    </tr>\n",
       "    <tr>\n",
       "      <th>4</th>\n",
       "      <td>4</td>\n",
       "      <td>2001806233</td>\n",
       "      <td>0.25</td>\n",
       "      <td>1091117222135</td>\n",
       "      <td>2001806233</td>\n",
       "      <td>0.78</td>\n",
       "      <td>121003</td>\n",
       "      <td>263139</td>\n",
       "      <td>b</td>\n",
       "      <td>Forward charges</td>\n",
       "      <td>61.30</td>\n",
       "    </tr>\n",
       "  </tbody>\n",
       "</table>\n",
       "</div>"
      ],
      "text/plain": [
       "   index  ExternOrderNo  Total weight as per X (KG)       AWB Code  \\\n",
       "0      0     2001806210                        0.22  1091117221940   \n",
       "1      1     2001806226                        0.48  1091117222065   \n",
       "2      2     2001806229                        0.50  1091117222080   \n",
       "3      3     2001806232                        1.30  1091117222124   \n",
       "4      4     2001806233                        0.25  1091117222135   \n",
       "\n",
       "     Order ID  Charged Weight  Warehouse Pincode  Customer Pincode Zone  \\\n",
       "0  2001806210            2.92             121003            140604    b   \n",
       "1  2001806226            0.68             121003            723146    d   \n",
       "2  2001806229            0.71             121003            421204    d   \n",
       "3  2001806232            1.30             121003            507101    d   \n",
       "4  2001806233            0.78             121003            263139    b   \n",
       "\n",
       "  Type of Shipment  Billing Amount (Rs.)  \n",
       "0  Forward charges                174.50  \n",
       "1  Forward charges                 90.20  \n",
       "2  Forward charges                 90.20  \n",
       "3  Forward charges                135.00  \n",
       "4  Forward charges                 61.30  "
      ]
     },
     "execution_count": 60,
     "metadata": {},
     "output_type": "execute_result"
    }
   ],
   "source": [
    "merged_df.head()"
   ]
  },
  {
   "cell_type": "code",
   "execution_count": 61,
   "id": "5bd3b834-26c8-4146-821a-c3593847998e",
   "metadata": {},
   "outputs": [
    {
     "data": {
      "text/plain": [
       "index                         0\n",
       "ExternOrderNo                 0\n",
       "Total weight as per X (KG)    0\n",
       "AWB Code                      0\n",
       "Order ID                      0\n",
       "Charged Weight                0\n",
       "Warehouse Pincode             0\n",
       "Customer Pincode              0\n",
       "Zone                          0\n",
       "Type of Shipment              0\n",
       "Billing Amount (Rs.)          0\n",
       "dtype: int64"
      ]
     },
     "execution_count": 61,
     "metadata": {},
     "output_type": "execute_result"
    }
   ],
   "source": [
    "merged_df.isnull().sum()"
   ]
  },
  {
   "cell_type": "code",
   "execution_count": 62,
   "id": "e9783de2-f046-4908-a3f1-716437d8a9fd",
   "metadata": {},
   "outputs": [
    {
     "data": {
      "text/html": [
       "<div>\n",
       "<style scoped>\n",
       "    .dataframe tbody tr th:only-of-type {\n",
       "        vertical-align: middle;\n",
       "    }\n",
       "\n",
       "    .dataframe tbody tr th {\n",
       "        vertical-align: top;\n",
       "    }\n",
       "\n",
       "    .dataframe thead th {\n",
       "        text-align: right;\n",
       "    }\n",
       "</style>\n",
       "<table border=\"1\" class=\"dataframe\">\n",
       "  <thead>\n",
       "    <tr style=\"text-align: right;\">\n",
       "      <th></th>\n",
       "      <th>index</th>\n",
       "      <th>ExternOrderNo</th>\n",
       "      <th>Total weight as per X (KG)</th>\n",
       "      <th>AWB Code</th>\n",
       "      <th>Order ID</th>\n",
       "      <th>Charged Weight</th>\n",
       "      <th>Warehouse Pincode</th>\n",
       "      <th>Customer Pincode</th>\n",
       "      <th>Zone</th>\n",
       "      <th>Type of Shipment</th>\n",
       "      <th>Billing Amount (Rs.)</th>\n",
       "    </tr>\n",
       "  </thead>\n",
       "  <tbody>\n",
       "  </tbody>\n",
       "</table>\n",
       "</div>"
      ],
      "text/plain": [
       "Empty DataFrame\n",
       "Columns: [index, ExternOrderNo, Total weight as per X (KG), AWB Code, Order ID, Charged Weight, Warehouse Pincode, Customer Pincode, Zone, Type of Shipment, Billing Amount (Rs.)]\n",
       "Index: []"
      ]
     },
     "execution_count": 62,
     "metadata": {},
     "output_type": "execute_result"
    }
   ],
   "source": [
    "merged_df[merged_df.duplicated()]"
   ]
  },
  {
   "cell_type": "code",
   "execution_count": 63,
   "id": "652f5f4f-5c38-437a-ba9c-c210a84f2d4e",
   "metadata": {},
   "outputs": [
    {
     "data": {
      "text/plain": [
       "Index(['index', 'ExternOrderNo', 'Total weight as per X (KG)', 'AWB Code',\n",
       "       'Order ID', 'Charged Weight', 'Warehouse Pincode', 'Customer Pincode',\n",
       "       'Zone', 'Type of Shipment', 'Billing Amount (Rs.)'],\n",
       "      dtype='object')"
      ]
     },
     "execution_count": 63,
     "metadata": {},
     "output_type": "execute_result"
    }
   ],
   "source": [
    "merged_df.columns"
   ]
  },
  {
   "cell_type": "code",
   "execution_count": 64,
   "id": "3cc6e728-1584-405e-a6cd-38fc68bbd438",
   "metadata": {},
   "outputs": [],
   "source": [
    "merged_df.drop('Order ID', axis=1, inplace=True)"
   ]
  },
  {
   "cell_type": "code",
   "execution_count": 65,
   "id": "369b12cd-8305-49ee-aaad-2a674b57bb6c",
   "metadata": {},
   "outputs": [],
   "source": [
    "dict = { 'ExternOrderNo':'Order ID',\n",
    "          'AWB Code': 'AWB Number',\n",
    "        'Charged Weight': 'Total weight as per Courier Company (KG)',\n",
    "        'Zone': 'Delivery Zone charged by Courier Company',\n",
    "        'Billing Amount (Rs.)':\"Charges Billed by Courier Company (Rs.)\"\n",
    "       }\n",
    " # call rename () method\n",
    "merged_df.rename(columns=dict,inplace=True)"
   ]
  },
  {
   "cell_type": "code",
   "execution_count": 66,
   "id": "f0a4562c-45d9-47bb-9721-23e810a48528",
   "metadata": {},
   "outputs": [],
   "source": [
    "# cols_to_order = ['ExternOrderNo', 'AWB Code','Total weight as per X (KG)','Charged Weight','Zone','Billing Amount (Rs.)']\n",
    "# new_columns = cols_to_order + (merged_df.columns.drop(cols_to_order).tolist())\n",
    "# merged_df = merged_df[new_columns]"
   ]
  },
  {
   "cell_type": "markdown",
   "id": "07746582-27c8-4599-a181-eec8f542fdbd",
   "metadata": {},
   "source": [
    "## merging with pincode dataframe to calculated zone as per company"
   ]
  },
  {
   "cell_type": "code",
   "execution_count": 67,
   "id": "3d89f4d6-ada9-4d92-be38-6306887ad24b",
   "metadata": {},
   "outputs": [],
   "source": [
    "merged_df = pd.merge(merged_df, pincode_zones_df,  how='left', left_on=['Warehouse Pincode','Customer Pincode'], right_on = ['Warehouse Pincode','Customer Pincode'])"
   ]
  },
  {
   "cell_type": "code",
   "execution_count": 68,
   "id": "8e5a859d-f00a-4061-af46-6d56193c1e9f",
   "metadata": {},
   "outputs": [
    {
     "data": {
      "text/html": [
       "<div>\n",
       "<style scoped>\n",
       "    .dataframe tbody tr th:only-of-type {\n",
       "        vertical-align: middle;\n",
       "    }\n",
       "\n",
       "    .dataframe tbody tr th {\n",
       "        vertical-align: top;\n",
       "    }\n",
       "\n",
       "    .dataframe thead th {\n",
       "        text-align: right;\n",
       "    }\n",
       "</style>\n",
       "<table border=\"1\" class=\"dataframe\">\n",
       "  <thead>\n",
       "    <tr style=\"text-align: right;\">\n",
       "      <th></th>\n",
       "      <th>index</th>\n",
       "      <th>Order ID</th>\n",
       "      <th>Total weight as per X (KG)</th>\n",
       "      <th>AWB Number</th>\n",
       "      <th>Total weight as per Courier Company (KG)</th>\n",
       "      <th>Warehouse Pincode</th>\n",
       "      <th>Customer Pincode</th>\n",
       "      <th>Delivery Zone charged by Courier Company</th>\n",
       "      <th>Type of Shipment</th>\n",
       "      <th>Charges Billed by Courier Company (Rs.)</th>\n",
       "      <th>Zone</th>\n",
       "    </tr>\n",
       "  </thead>\n",
       "  <tbody>\n",
       "    <tr>\n",
       "      <th>0</th>\n",
       "      <td>0</td>\n",
       "      <td>2001806210</td>\n",
       "      <td>0.22</td>\n",
       "      <td>1091117221940</td>\n",
       "      <td>2.92</td>\n",
       "      <td>121003</td>\n",
       "      <td>140604</td>\n",
       "      <td>b</td>\n",
       "      <td>Forward charges</td>\n",
       "      <td>174.50</td>\n",
       "      <td>b</td>\n",
       "    </tr>\n",
       "    <tr>\n",
       "      <th>1</th>\n",
       "      <td>1</td>\n",
       "      <td>2001806226</td>\n",
       "      <td>0.48</td>\n",
       "      <td>1091117222065</td>\n",
       "      <td>0.68</td>\n",
       "      <td>121003</td>\n",
       "      <td>723146</td>\n",
       "      <td>d</td>\n",
       "      <td>Forward charges</td>\n",
       "      <td>90.20</td>\n",
       "      <td>d</td>\n",
       "    </tr>\n",
       "    <tr>\n",
       "      <th>2</th>\n",
       "      <td>2</td>\n",
       "      <td>2001806229</td>\n",
       "      <td>0.50</td>\n",
       "      <td>1091117222080</td>\n",
       "      <td>0.71</td>\n",
       "      <td>121003</td>\n",
       "      <td>421204</td>\n",
       "      <td>d</td>\n",
       "      <td>Forward charges</td>\n",
       "      <td>90.20</td>\n",
       "      <td>d</td>\n",
       "    </tr>\n",
       "    <tr>\n",
       "      <th>3</th>\n",
       "      <td>3</td>\n",
       "      <td>2001806232</td>\n",
       "      <td>1.30</td>\n",
       "      <td>1091117222124</td>\n",
       "      <td>1.30</td>\n",
       "      <td>121003</td>\n",
       "      <td>507101</td>\n",
       "      <td>d</td>\n",
       "      <td>Forward charges</td>\n",
       "      <td>135.00</td>\n",
       "      <td>d</td>\n",
       "    </tr>\n",
       "    <tr>\n",
       "      <th>4</th>\n",
       "      <td>4</td>\n",
       "      <td>2001806233</td>\n",
       "      <td>0.25</td>\n",
       "      <td>1091117222135</td>\n",
       "      <td>0.78</td>\n",
       "      <td>121003</td>\n",
       "      <td>263139</td>\n",
       "      <td>b</td>\n",
       "      <td>Forward charges</td>\n",
       "      <td>61.30</td>\n",
       "      <td>b</td>\n",
       "    </tr>\n",
       "  </tbody>\n",
       "</table>\n",
       "</div>"
      ],
      "text/plain": [
       "   index    Order ID  Total weight as per X (KG)     AWB Number  \\\n",
       "0      0  2001806210                        0.22  1091117221940   \n",
       "1      1  2001806226                        0.48  1091117222065   \n",
       "2      2  2001806229                        0.50  1091117222080   \n",
       "3      3  2001806232                        1.30  1091117222124   \n",
       "4      4  2001806233                        0.25  1091117222135   \n",
       "\n",
       "   Total weight as per Courier Company (KG)  Warehouse Pincode  \\\n",
       "0                                      2.92             121003   \n",
       "1                                      0.68             121003   \n",
       "2                                      0.71             121003   \n",
       "3                                      1.30             121003   \n",
       "4                                      0.78             121003   \n",
       "\n",
       "   Customer Pincode Delivery Zone charged by Courier Company Type of Shipment  \\\n",
       "0            140604                                        b  Forward charges   \n",
       "1            723146                                        d  Forward charges   \n",
       "2            421204                                        d  Forward charges   \n",
       "3            507101                                        d  Forward charges   \n",
       "4            263139                                        b  Forward charges   \n",
       "\n",
       "   Charges Billed by Courier Company (Rs.) Zone  \n",
       "0                                   174.50    b  \n",
       "1                                    90.20    d  \n",
       "2                                    90.20    d  \n",
       "3                                   135.00    d  \n",
       "4                                    61.30    b  "
      ]
     },
     "execution_count": 68,
     "metadata": {},
     "output_type": "execute_result"
    }
   ],
   "source": [
    "merged_df.head()"
   ]
  },
  {
   "cell_type": "code",
   "execution_count": 69,
   "id": "1ae49d78-6de2-43d7-bdf5-4f6bcfa3380a",
   "metadata": {},
   "outputs": [],
   "source": [
    "merged_df.rename(columns={'Zone': 'Delivery Zone as per X'}, inplace=True)"
   ]
  },
  {
   "cell_type": "markdown",
   "id": "f7d98fcb-da02-4c2c-bba2-a8906d23d4db",
   "metadata": {},
   "source": [
    "## Calculated weight slab"
   ]
  },
  {
   "cell_type": "code",
   "execution_count": 70,
   "id": "332a9cd6-cd07-426d-af94-136c4a98e196",
   "metadata": {},
   "outputs": [],
   "source": [
    "def calculate_weight_slab(row):\n",
    "    if row['Delivery Zone as per X']=='a':\n",
    "        val=0.5\n",
    "    elif row['Delivery Zone as per X']=='b':\n",
    "        val=1.0\n",
    "    elif row['Delivery Zone as per X']=='c':\n",
    "        val=1.25\n",
    "    elif row['Delivery Zone as per X']=='d':\n",
    "        val=1.5\n",
    "    else:\n",
    "        val=2\n",
    "    return val"
   ]
  },
  {
   "cell_type": "code",
   "execution_count": 71,
   "id": "ffe80374-d73c-4408-b7cd-1e3c44e2048e",
   "metadata": {},
   "outputs": [],
   "source": [
    "merged_df['Weight slab as per X (KG)']= merged_df.apply(calculate_weight_slab, axis=1)"
   ]
  },
  {
   "cell_type": "code",
   "execution_count": 72,
   "id": "0918d905-01a0-47c5-885f-87732b0addd1",
   "metadata": {},
   "outputs": [
    {
     "data": {
      "text/html": [
       "<div>\n",
       "<style scoped>\n",
       "    .dataframe tbody tr th:only-of-type {\n",
       "        vertical-align: middle;\n",
       "    }\n",
       "\n",
       "    .dataframe tbody tr th {\n",
       "        vertical-align: top;\n",
       "    }\n",
       "\n",
       "    .dataframe thead th {\n",
       "        text-align: right;\n",
       "    }\n",
       "</style>\n",
       "<table border=\"1\" class=\"dataframe\">\n",
       "  <thead>\n",
       "    <tr style=\"text-align: right;\">\n",
       "      <th></th>\n",
       "      <th>index</th>\n",
       "      <th>Order ID</th>\n",
       "      <th>Total weight as per X (KG)</th>\n",
       "      <th>AWB Number</th>\n",
       "      <th>Total weight as per Courier Company (KG)</th>\n",
       "      <th>Warehouse Pincode</th>\n",
       "      <th>Customer Pincode</th>\n",
       "      <th>Delivery Zone charged by Courier Company</th>\n",
       "      <th>Type of Shipment</th>\n",
       "      <th>Charges Billed by Courier Company (Rs.)</th>\n",
       "      <th>Delivery Zone as per X</th>\n",
       "      <th>Weight slab as per X (KG)</th>\n",
       "    </tr>\n",
       "  </thead>\n",
       "  <tbody>\n",
       "    <tr>\n",
       "      <th>0</th>\n",
       "      <td>0</td>\n",
       "      <td>2001806210</td>\n",
       "      <td>0.22</td>\n",
       "      <td>1091117221940</td>\n",
       "      <td>2.92</td>\n",
       "      <td>121003</td>\n",
       "      <td>140604</td>\n",
       "      <td>b</td>\n",
       "      <td>Forward charges</td>\n",
       "      <td>174.50</td>\n",
       "      <td>b</td>\n",
       "      <td>1.00</td>\n",
       "    </tr>\n",
       "    <tr>\n",
       "      <th>1</th>\n",
       "      <td>1</td>\n",
       "      <td>2001806226</td>\n",
       "      <td>0.48</td>\n",
       "      <td>1091117222065</td>\n",
       "      <td>0.68</td>\n",
       "      <td>121003</td>\n",
       "      <td>723146</td>\n",
       "      <td>d</td>\n",
       "      <td>Forward charges</td>\n",
       "      <td>90.20</td>\n",
       "      <td>d</td>\n",
       "      <td>1.50</td>\n",
       "    </tr>\n",
       "    <tr>\n",
       "      <th>2</th>\n",
       "      <td>2</td>\n",
       "      <td>2001806229</td>\n",
       "      <td>0.50</td>\n",
       "      <td>1091117222080</td>\n",
       "      <td>0.71</td>\n",
       "      <td>121003</td>\n",
       "      <td>421204</td>\n",
       "      <td>d</td>\n",
       "      <td>Forward charges</td>\n",
       "      <td>90.20</td>\n",
       "      <td>d</td>\n",
       "      <td>1.50</td>\n",
       "    </tr>\n",
       "    <tr>\n",
       "      <th>3</th>\n",
       "      <td>3</td>\n",
       "      <td>2001806232</td>\n",
       "      <td>1.30</td>\n",
       "      <td>1091117222124</td>\n",
       "      <td>1.30</td>\n",
       "      <td>121003</td>\n",
       "      <td>507101</td>\n",
       "      <td>d</td>\n",
       "      <td>Forward charges</td>\n",
       "      <td>135.00</td>\n",
       "      <td>d</td>\n",
       "      <td>1.50</td>\n",
       "    </tr>\n",
       "    <tr>\n",
       "      <th>4</th>\n",
       "      <td>4</td>\n",
       "      <td>2001806233</td>\n",
       "      <td>0.25</td>\n",
       "      <td>1091117222135</td>\n",
       "      <td>0.78</td>\n",
       "      <td>121003</td>\n",
       "      <td>263139</td>\n",
       "      <td>b</td>\n",
       "      <td>Forward charges</td>\n",
       "      <td>61.30</td>\n",
       "      <td>b</td>\n",
       "      <td>1.00</td>\n",
       "    </tr>\n",
       "  </tbody>\n",
       "</table>\n",
       "</div>"
      ],
      "text/plain": [
       "   index    Order ID  Total weight as per X (KG)     AWB Number  \\\n",
       "0      0  2001806210                        0.22  1091117221940   \n",
       "1      1  2001806226                        0.48  1091117222065   \n",
       "2      2  2001806229                        0.50  1091117222080   \n",
       "3      3  2001806232                        1.30  1091117222124   \n",
       "4      4  2001806233                        0.25  1091117222135   \n",
       "\n",
       "   Total weight as per Courier Company (KG)  Warehouse Pincode  \\\n",
       "0                                      2.92             121003   \n",
       "1                                      0.68             121003   \n",
       "2                                      0.71             121003   \n",
       "3                                      1.30             121003   \n",
       "4                                      0.78             121003   \n",
       "\n",
       "   Customer Pincode Delivery Zone charged by Courier Company Type of Shipment  \\\n",
       "0            140604                                        b  Forward charges   \n",
       "1            723146                                        d  Forward charges   \n",
       "2            421204                                        d  Forward charges   \n",
       "3            507101                                        d  Forward charges   \n",
       "4            263139                                        b  Forward charges   \n",
       "\n",
       "   Charges Billed by Courier Company (Rs.) Delivery Zone as per X  \\\n",
       "0                                   174.50                      b   \n",
       "1                                    90.20                      d   \n",
       "2                                    90.20                      d   \n",
       "3                                   135.00                      d   \n",
       "4                                    61.30                      b   \n",
       "\n",
       "   Weight slab as per X (KG)  \n",
       "0                       1.00  \n",
       "1                       1.50  \n",
       "2                       1.50  \n",
       "3                       1.50  \n",
       "4                       1.00  "
      ]
     },
     "execution_count": 72,
     "metadata": {},
     "output_type": "execute_result"
    }
   ],
   "source": [
    "merged_df.head()"
   ]
  },
  {
   "cell_type": "code",
   "execution_count": 73,
   "id": "e9aba9c6-43e4-46b2-8eaa-40dcae717784",
   "metadata": {},
   "outputs": [],
   "source": [
    "def calculate_weight_slab_as_per_courier(row):\n",
    "    if row['Delivery Zone charged by Courier Company']=='a':\n",
    "        val=0.5\n",
    "    elif row['Delivery Zone charged by Courier Company']=='b':\n",
    "        val=1.0\n",
    "    elif row['Delivery Zone charged by Courier Company']=='c':\n",
    "        val=1.25\n",
    "    elif row['Delivery Zone charged by Courier Company']=='d':\n",
    "        val=1.5\n",
    "    else:\n",
    "        val=2\n",
    "    return val"
   ]
  },
  {
   "cell_type": "code",
   "execution_count": 74,
   "id": "6ee0209b-9eb0-461e-b4ef-67bdb3cd2bfe",
   "metadata": {},
   "outputs": [
    {
     "data": {
      "text/html": [
       "<div>\n",
       "<style scoped>\n",
       "    .dataframe tbody tr th:only-of-type {\n",
       "        vertical-align: middle;\n",
       "    }\n",
       "\n",
       "    .dataframe tbody tr th {\n",
       "        vertical-align: top;\n",
       "    }\n",
       "\n",
       "    .dataframe thead th {\n",
       "        text-align: right;\n",
       "    }\n",
       "</style>\n",
       "<table border=\"1\" class=\"dataframe\">\n",
       "  <thead>\n",
       "    <tr style=\"text-align: right;\">\n",
       "      <th></th>\n",
       "      <th>index</th>\n",
       "      <th>Order ID</th>\n",
       "      <th>Total weight as per X (KG)</th>\n",
       "      <th>AWB Number</th>\n",
       "      <th>Total weight as per Courier Company (KG)</th>\n",
       "      <th>Warehouse Pincode</th>\n",
       "      <th>Customer Pincode</th>\n",
       "      <th>Delivery Zone charged by Courier Company</th>\n",
       "      <th>Type of Shipment</th>\n",
       "      <th>Charges Billed by Courier Company (Rs.)</th>\n",
       "      <th>Delivery Zone as per X</th>\n",
       "      <th>Weight slab as per X (KG)</th>\n",
       "      <th>Weight slab charged by Courier Company (KG)</th>\n",
       "    </tr>\n",
       "  </thead>\n",
       "  <tbody>\n",
       "    <tr>\n",
       "      <th>0</th>\n",
       "      <td>0</td>\n",
       "      <td>2001806210</td>\n",
       "      <td>0.22</td>\n",
       "      <td>1091117221940</td>\n",
       "      <td>2.92</td>\n",
       "      <td>121003</td>\n",
       "      <td>140604</td>\n",
       "      <td>b</td>\n",
       "      <td>Forward charges</td>\n",
       "      <td>174.50</td>\n",
       "      <td>b</td>\n",
       "      <td>1.00</td>\n",
       "      <td>1.00</td>\n",
       "    </tr>\n",
       "    <tr>\n",
       "      <th>1</th>\n",
       "      <td>1</td>\n",
       "      <td>2001806226</td>\n",
       "      <td>0.48</td>\n",
       "      <td>1091117222065</td>\n",
       "      <td>0.68</td>\n",
       "      <td>121003</td>\n",
       "      <td>723146</td>\n",
       "      <td>d</td>\n",
       "      <td>Forward charges</td>\n",
       "      <td>90.20</td>\n",
       "      <td>d</td>\n",
       "      <td>1.50</td>\n",
       "      <td>1.50</td>\n",
       "    </tr>\n",
       "    <tr>\n",
       "      <th>2</th>\n",
       "      <td>2</td>\n",
       "      <td>2001806229</td>\n",
       "      <td>0.50</td>\n",
       "      <td>1091117222080</td>\n",
       "      <td>0.71</td>\n",
       "      <td>121003</td>\n",
       "      <td>421204</td>\n",
       "      <td>d</td>\n",
       "      <td>Forward charges</td>\n",
       "      <td>90.20</td>\n",
       "      <td>d</td>\n",
       "      <td>1.50</td>\n",
       "      <td>1.50</td>\n",
       "    </tr>\n",
       "    <tr>\n",
       "      <th>3</th>\n",
       "      <td>3</td>\n",
       "      <td>2001806232</td>\n",
       "      <td>1.30</td>\n",
       "      <td>1091117222124</td>\n",
       "      <td>1.30</td>\n",
       "      <td>121003</td>\n",
       "      <td>507101</td>\n",
       "      <td>d</td>\n",
       "      <td>Forward charges</td>\n",
       "      <td>135.00</td>\n",
       "      <td>d</td>\n",
       "      <td>1.50</td>\n",
       "      <td>1.50</td>\n",
       "    </tr>\n",
       "    <tr>\n",
       "      <th>4</th>\n",
       "      <td>4</td>\n",
       "      <td>2001806233</td>\n",
       "      <td>0.25</td>\n",
       "      <td>1091117222135</td>\n",
       "      <td>0.78</td>\n",
       "      <td>121003</td>\n",
       "      <td>263139</td>\n",
       "      <td>b</td>\n",
       "      <td>Forward charges</td>\n",
       "      <td>61.30</td>\n",
       "      <td>b</td>\n",
       "      <td>1.00</td>\n",
       "      <td>1.00</td>\n",
       "    </tr>\n",
       "  </tbody>\n",
       "</table>\n",
       "</div>"
      ],
      "text/plain": [
       "   index    Order ID  Total weight as per X (KG)     AWB Number  \\\n",
       "0      0  2001806210                        0.22  1091117221940   \n",
       "1      1  2001806226                        0.48  1091117222065   \n",
       "2      2  2001806229                        0.50  1091117222080   \n",
       "3      3  2001806232                        1.30  1091117222124   \n",
       "4      4  2001806233                        0.25  1091117222135   \n",
       "\n",
       "   Total weight as per Courier Company (KG)  Warehouse Pincode  \\\n",
       "0                                      2.92             121003   \n",
       "1                                      0.68             121003   \n",
       "2                                      0.71             121003   \n",
       "3                                      1.30             121003   \n",
       "4                                      0.78             121003   \n",
       "\n",
       "   Customer Pincode Delivery Zone charged by Courier Company Type of Shipment  \\\n",
       "0            140604                                        b  Forward charges   \n",
       "1            723146                                        d  Forward charges   \n",
       "2            421204                                        d  Forward charges   \n",
       "3            507101                                        d  Forward charges   \n",
       "4            263139                                        b  Forward charges   \n",
       "\n",
       "   Charges Billed by Courier Company (Rs.) Delivery Zone as per X  \\\n",
       "0                                   174.50                      b   \n",
       "1                                    90.20                      d   \n",
       "2                                    90.20                      d   \n",
       "3                                   135.00                      d   \n",
       "4                                    61.30                      b   \n",
       "\n",
       "   Weight slab as per X (KG)  Weight slab charged by Courier Company (KG)  \n",
       "0                       1.00                                         1.00  \n",
       "1                       1.50                                         1.50  \n",
       "2                       1.50                                         1.50  \n",
       "3                       1.50                                         1.50  \n",
       "4                       1.00                                         1.00  "
      ]
     },
     "execution_count": 74,
     "metadata": {},
     "output_type": "execute_result"
    }
   ],
   "source": [
    "merged_df['Weight slab charged by Courier Company (KG)']= merged_df.apply(calculate_weight_slab_as_per_courier, axis=1)\n",
    "merged_df.head()"
   ]
  },
  {
   "cell_type": "markdown",
   "id": "093a1fc3-5c70-4f7b-bdd3-68a696e33637",
   "metadata": {},
   "source": [
    "## Merging merged dataframe with rates dataframe"
   ]
  },
  {
   "cell_type": "code",
   "execution_count": 75,
   "id": "bf4b3d85-65c1-424e-b6cd-73c3056d842b",
   "metadata": {},
   "outputs": [
    {
     "data": {
      "text/html": [
       "<div>\n",
       "<style scoped>\n",
       "    .dataframe tbody tr th:only-of-type {\n",
       "        vertical-align: middle;\n",
       "    }\n",
       "\n",
       "    .dataframe tbody tr th {\n",
       "        vertical-align: top;\n",
       "    }\n",
       "\n",
       "    .dataframe thead th {\n",
       "        text-align: right;\n",
       "    }\n",
       "</style>\n",
       "<table border=\"1\" class=\"dataframe\">\n",
       "  <thead>\n",
       "    <tr style=\"text-align: right;\">\n",
       "      <th></th>\n",
       "      <th>index</th>\n",
       "      <th>Order ID</th>\n",
       "      <th>Total weight as per X (KG)</th>\n",
       "      <th>AWB Number</th>\n",
       "      <th>Total weight as per Courier Company (KG)</th>\n",
       "      <th>Warehouse Pincode</th>\n",
       "      <th>Customer Pincode</th>\n",
       "      <th>Delivery Zone charged by Courier Company</th>\n",
       "      <th>Type of Shipment</th>\n",
       "      <th>Charges Billed by Courier Company (Rs.)</th>\n",
       "      <th>Delivery Zone as per X</th>\n",
       "      <th>Weight slab as per X (KG)</th>\n",
       "      <th>Weight slab charged by Courier Company (KG)</th>\n",
       "      <th>Zone</th>\n",
       "      <th>Weight Slabs</th>\n",
       "      <th>Forward Fixed Charge</th>\n",
       "      <th>Forward Additional Weight Slab Charge</th>\n",
       "      <th>RTO Fixed Charge</th>\n",
       "      <th>RTO Additional Weight Slab Charge</th>\n",
       "    </tr>\n",
       "  </thead>\n",
       "  <tbody>\n",
       "    <tr>\n",
       "      <th>0</th>\n",
       "      <td>0</td>\n",
       "      <td>2001806210</td>\n",
       "      <td>0.22</td>\n",
       "      <td>1091117221940</td>\n",
       "      <td>2.92</td>\n",
       "      <td>121003</td>\n",
       "      <td>140604</td>\n",
       "      <td>b</td>\n",
       "      <td>Forward charges</td>\n",
       "      <td>174.50</td>\n",
       "      <td>b</td>\n",
       "      <td>1.00</td>\n",
       "      <td>1.00</td>\n",
       "      <td>b</td>\n",
       "      <td>1.00</td>\n",
       "      <td>33.00</td>\n",
       "      <td>28.30</td>\n",
       "      <td>20.50</td>\n",
       "      <td>28.30</td>\n",
       "    </tr>\n",
       "    <tr>\n",
       "      <th>1</th>\n",
       "      <td>1</td>\n",
       "      <td>2001806226</td>\n",
       "      <td>0.48</td>\n",
       "      <td>1091117222065</td>\n",
       "      <td>0.68</td>\n",
       "      <td>121003</td>\n",
       "      <td>723146</td>\n",
       "      <td>d</td>\n",
       "      <td>Forward charges</td>\n",
       "      <td>90.20</td>\n",
       "      <td>d</td>\n",
       "      <td>1.50</td>\n",
       "      <td>1.50</td>\n",
       "      <td>d</td>\n",
       "      <td>1.50</td>\n",
       "      <td>45.40</td>\n",
       "      <td>44.80</td>\n",
       "      <td>41.30</td>\n",
       "      <td>44.80</td>\n",
       "    </tr>\n",
       "    <tr>\n",
       "      <th>2</th>\n",
       "      <td>2</td>\n",
       "      <td>2001806229</td>\n",
       "      <td>0.50</td>\n",
       "      <td>1091117222080</td>\n",
       "      <td>0.71</td>\n",
       "      <td>121003</td>\n",
       "      <td>421204</td>\n",
       "      <td>d</td>\n",
       "      <td>Forward charges</td>\n",
       "      <td>90.20</td>\n",
       "      <td>d</td>\n",
       "      <td>1.50</td>\n",
       "      <td>1.50</td>\n",
       "      <td>d</td>\n",
       "      <td>1.50</td>\n",
       "      <td>45.40</td>\n",
       "      <td>44.80</td>\n",
       "      <td>41.30</td>\n",
       "      <td>44.80</td>\n",
       "    </tr>\n",
       "    <tr>\n",
       "      <th>3</th>\n",
       "      <td>3</td>\n",
       "      <td>2001806232</td>\n",
       "      <td>1.30</td>\n",
       "      <td>1091117222124</td>\n",
       "      <td>1.30</td>\n",
       "      <td>121003</td>\n",
       "      <td>507101</td>\n",
       "      <td>d</td>\n",
       "      <td>Forward charges</td>\n",
       "      <td>135.00</td>\n",
       "      <td>d</td>\n",
       "      <td>1.50</td>\n",
       "      <td>1.50</td>\n",
       "      <td>d</td>\n",
       "      <td>1.50</td>\n",
       "      <td>45.40</td>\n",
       "      <td>44.80</td>\n",
       "      <td>41.30</td>\n",
       "      <td>44.80</td>\n",
       "    </tr>\n",
       "    <tr>\n",
       "      <th>4</th>\n",
       "      <td>4</td>\n",
       "      <td>2001806233</td>\n",
       "      <td>0.25</td>\n",
       "      <td>1091117222135</td>\n",
       "      <td>0.78</td>\n",
       "      <td>121003</td>\n",
       "      <td>263139</td>\n",
       "      <td>b</td>\n",
       "      <td>Forward charges</td>\n",
       "      <td>61.30</td>\n",
       "      <td>b</td>\n",
       "      <td>1.00</td>\n",
       "      <td>1.00</td>\n",
       "      <td>b</td>\n",
       "      <td>1.00</td>\n",
       "      <td>33.00</td>\n",
       "      <td>28.30</td>\n",
       "      <td>20.50</td>\n",
       "      <td>28.30</td>\n",
       "    </tr>\n",
       "  </tbody>\n",
       "</table>\n",
       "</div>"
      ],
      "text/plain": [
       "   index    Order ID  Total weight as per X (KG)     AWB Number  \\\n",
       "0      0  2001806210                        0.22  1091117221940   \n",
       "1      1  2001806226                        0.48  1091117222065   \n",
       "2      2  2001806229                        0.50  1091117222080   \n",
       "3      3  2001806232                        1.30  1091117222124   \n",
       "4      4  2001806233                        0.25  1091117222135   \n",
       "\n",
       "   Total weight as per Courier Company (KG)  Warehouse Pincode  \\\n",
       "0                                      2.92             121003   \n",
       "1                                      0.68             121003   \n",
       "2                                      0.71             121003   \n",
       "3                                      1.30             121003   \n",
       "4                                      0.78             121003   \n",
       "\n",
       "   Customer Pincode Delivery Zone charged by Courier Company Type of Shipment  \\\n",
       "0            140604                                        b  Forward charges   \n",
       "1            723146                                        d  Forward charges   \n",
       "2            421204                                        d  Forward charges   \n",
       "3            507101                                        d  Forward charges   \n",
       "4            263139                                        b  Forward charges   \n",
       "\n",
       "   Charges Billed by Courier Company (Rs.) Delivery Zone as per X  \\\n",
       "0                                   174.50                      b   \n",
       "1                                    90.20                      d   \n",
       "2                                    90.20                      d   \n",
       "3                                   135.00                      d   \n",
       "4                                    61.30                      b   \n",
       "\n",
       "   Weight slab as per X (KG)  Weight slab charged by Courier Company (KG)  \\\n",
       "0                       1.00                                         1.00   \n",
       "1                       1.50                                         1.50   \n",
       "2                       1.50                                         1.50   \n",
       "3                       1.50                                         1.50   \n",
       "4                       1.00                                         1.00   \n",
       "\n",
       "  Zone  Weight Slabs  Forward Fixed Charge  \\\n",
       "0    b          1.00                 33.00   \n",
       "1    d          1.50                 45.40   \n",
       "2    d          1.50                 45.40   \n",
       "3    d          1.50                 45.40   \n",
       "4    b          1.00                 33.00   \n",
       "\n",
       "   Forward Additional Weight Slab Charge  RTO Fixed Charge  \\\n",
       "0                                  28.30             20.50   \n",
       "1                                  44.80             41.30   \n",
       "2                                  44.80             41.30   \n",
       "3                                  44.80             41.30   \n",
       "4                                  28.30             20.50   \n",
       "\n",
       "   RTO Additional Weight Slab Charge  \n",
       "0                              28.30  \n",
       "1                              44.80  \n",
       "2                              44.80  \n",
       "3                              44.80  \n",
       "4                              28.30  "
      ]
     },
     "execution_count": 75,
     "metadata": {},
     "output_type": "execute_result"
    }
   ],
   "source": [
    "merged_df=pd.merge(merged_df,rates_df,how=\"left\",left_on=\"Delivery Zone as per X\",right_on=\"Zone\")\n",
    "merged_df.head()"
   ]
  },
  {
   "cell_type": "code",
   "execution_count": null,
   "id": "189c186b-2e1e-4f4c-836f-ba1ec303ad00",
   "metadata": {},
   "outputs": [],
   "source": []
  },
  {
   "cell_type": "markdown",
   "id": "b1279a95-8368-481e-bfa9-2b4adba2564c",
   "metadata": {},
   "source": [
    "## Calculated Expected charges"
   ]
  },
  {
   "cell_type": "code",
   "execution_count": 76,
   "id": "28b25b02-6949-4e88-95da-4d2adc10a568",
   "metadata": {},
   "outputs": [],
   "source": [
    "import math\n",
    "def round_up(n, decimals=0):\n",
    "    multiplier = 10**decimals\n",
    "    return math.ceil(n * multiplier) / multiplier"
   ]
  },
  {
   "cell_type": "code",
   "execution_count": 77,
   "id": "c969220b-f6c3-48e0-aa2d-6c3f27096a33",
   "metadata": {},
   "outputs": [
    {
     "data": {
      "text/plain": [
       "array(['Forward charges', 'Forward and RTO charges'], dtype=object)"
      ]
     },
     "execution_count": 77,
     "metadata": {},
     "output_type": "execute_result"
    }
   ],
   "source": [
    "merged_df['Type of Shipment'].unique()"
   ]
  },
  {
   "cell_type": "code",
   "execution_count": 78,
   "id": "295279d1-b4b4-4faf-b806-15c8b36ef985",
   "metadata": {},
   "outputs": [],
   "source": [
    "def calculate_expected_charges(row):\n",
    "    total_charges=0\n",
    "    fwd_fixed_charges=0\n",
    "    fwd_additional_charges=0\n",
    "    rto_fixed_charges=0\n",
    "    rto_additional_charges=0\n",
    "    #print(row['Type of Shipment'])\n",
    "    if 'Forward' in row['Type of Shipment']:\n",
    "        if row['Total weight as per X (KG)'] <= row['Weight slab as per X (KG)']:\n",
    "            fwd_fixed_charges=row['Forward Fixed Charge']\n",
    "        else:\n",
    "            fwd_fixed_charges=row['Forward Fixed Charge']\n",
    "            temp=round_up((row['Total weight as per X (KG)']-row['Weight slab as per X (KG)'])/(row['Weight slab as per X (KG)']))\n",
    "            fwd_additional_charges=temp*row['Forward Additional Weight Slab Charge']\n",
    "    \n",
    "    if 'RTO' in row['Type of Shipment']:\n",
    "        if row['Total weight as per X (KG)'] <= row['Weight slab as per X (KG)']:\n",
    "            rto_fixed_charges=row['RTO Fixed Charge']\n",
    "        else:\n",
    "            rto_fixed_charges=row['RTO Fixed Charge']\n",
    "            temp=round_up((row['Total weight as per X (KG)']-row['Weight slab as per X (KG)'])/(row['Weight slab as per X (KG)']))\n",
    "            rto_additional_charges=temp*row['RTO Additional Weight Slab Charge']\n",
    "    total_charges=fwd_fixed_charges+fwd_additional_charges+rto_fixed_charges+rto_additional_charges\n",
    "    return total_charges"
   ]
  },
  {
   "cell_type": "code",
   "execution_count": 79,
   "id": "25a29f3c-54e4-4082-bcf7-17a6ead4031d",
   "metadata": {},
   "outputs": [
    {
     "data": {
      "text/html": [
       "<div>\n",
       "<style scoped>\n",
       "    .dataframe tbody tr th:only-of-type {\n",
       "        vertical-align: middle;\n",
       "    }\n",
       "\n",
       "    .dataframe tbody tr th {\n",
       "        vertical-align: top;\n",
       "    }\n",
       "\n",
       "    .dataframe thead th {\n",
       "        text-align: right;\n",
       "    }\n",
       "</style>\n",
       "<table border=\"1\" class=\"dataframe\">\n",
       "  <thead>\n",
       "    <tr style=\"text-align: right;\">\n",
       "      <th></th>\n",
       "      <th>index</th>\n",
       "      <th>Order ID</th>\n",
       "      <th>Total weight as per X (KG)</th>\n",
       "      <th>AWB Number</th>\n",
       "      <th>Total weight as per Courier Company (KG)</th>\n",
       "      <th>Warehouse Pincode</th>\n",
       "      <th>Customer Pincode</th>\n",
       "      <th>Delivery Zone charged by Courier Company</th>\n",
       "      <th>Type of Shipment</th>\n",
       "      <th>Charges Billed by Courier Company (Rs.)</th>\n",
       "      <th>Delivery Zone as per X</th>\n",
       "      <th>Weight slab as per X (KG)</th>\n",
       "      <th>Weight slab charged by Courier Company (KG)</th>\n",
       "      <th>Zone</th>\n",
       "      <th>Weight Slabs</th>\n",
       "      <th>Forward Fixed Charge</th>\n",
       "      <th>Forward Additional Weight Slab Charge</th>\n",
       "      <th>RTO Fixed Charge</th>\n",
       "      <th>RTO Additional Weight Slab Charge</th>\n",
       "      <th>Expected Charge as per X (Rs.)</th>\n",
       "    </tr>\n",
       "  </thead>\n",
       "  <tbody>\n",
       "    <tr>\n",
       "      <th>0</th>\n",
       "      <td>0</td>\n",
       "      <td>2001806210</td>\n",
       "      <td>0.22</td>\n",
       "      <td>1091117221940</td>\n",
       "      <td>2.92</td>\n",
       "      <td>121003</td>\n",
       "      <td>140604</td>\n",
       "      <td>b</td>\n",
       "      <td>Forward charges</td>\n",
       "      <td>174.50</td>\n",
       "      <td>b</td>\n",
       "      <td>1.00</td>\n",
       "      <td>1.00</td>\n",
       "      <td>b</td>\n",
       "      <td>1.00</td>\n",
       "      <td>33.00</td>\n",
       "      <td>28.30</td>\n",
       "      <td>20.50</td>\n",
       "      <td>28.30</td>\n",
       "      <td>33.00</td>\n",
       "    </tr>\n",
       "    <tr>\n",
       "      <th>1</th>\n",
       "      <td>1</td>\n",
       "      <td>2001806226</td>\n",
       "      <td>0.48</td>\n",
       "      <td>1091117222065</td>\n",
       "      <td>0.68</td>\n",
       "      <td>121003</td>\n",
       "      <td>723146</td>\n",
       "      <td>d</td>\n",
       "      <td>Forward charges</td>\n",
       "      <td>90.20</td>\n",
       "      <td>d</td>\n",
       "      <td>1.50</td>\n",
       "      <td>1.50</td>\n",
       "      <td>d</td>\n",
       "      <td>1.50</td>\n",
       "      <td>45.40</td>\n",
       "      <td>44.80</td>\n",
       "      <td>41.30</td>\n",
       "      <td>44.80</td>\n",
       "      <td>45.40</td>\n",
       "    </tr>\n",
       "    <tr>\n",
       "      <th>2</th>\n",
       "      <td>2</td>\n",
       "      <td>2001806229</td>\n",
       "      <td>0.50</td>\n",
       "      <td>1091117222080</td>\n",
       "      <td>0.71</td>\n",
       "      <td>121003</td>\n",
       "      <td>421204</td>\n",
       "      <td>d</td>\n",
       "      <td>Forward charges</td>\n",
       "      <td>90.20</td>\n",
       "      <td>d</td>\n",
       "      <td>1.50</td>\n",
       "      <td>1.50</td>\n",
       "      <td>d</td>\n",
       "      <td>1.50</td>\n",
       "      <td>45.40</td>\n",
       "      <td>44.80</td>\n",
       "      <td>41.30</td>\n",
       "      <td>44.80</td>\n",
       "      <td>45.40</td>\n",
       "    </tr>\n",
       "    <tr>\n",
       "      <th>3</th>\n",
       "      <td>3</td>\n",
       "      <td>2001806232</td>\n",
       "      <td>1.30</td>\n",
       "      <td>1091117222124</td>\n",
       "      <td>1.30</td>\n",
       "      <td>121003</td>\n",
       "      <td>507101</td>\n",
       "      <td>d</td>\n",
       "      <td>Forward charges</td>\n",
       "      <td>135.00</td>\n",
       "      <td>d</td>\n",
       "      <td>1.50</td>\n",
       "      <td>1.50</td>\n",
       "      <td>d</td>\n",
       "      <td>1.50</td>\n",
       "      <td>45.40</td>\n",
       "      <td>44.80</td>\n",
       "      <td>41.30</td>\n",
       "      <td>44.80</td>\n",
       "      <td>45.40</td>\n",
       "    </tr>\n",
       "    <tr>\n",
       "      <th>4</th>\n",
       "      <td>4</td>\n",
       "      <td>2001806233</td>\n",
       "      <td>0.25</td>\n",
       "      <td>1091117222135</td>\n",
       "      <td>0.78</td>\n",
       "      <td>121003</td>\n",
       "      <td>263139</td>\n",
       "      <td>b</td>\n",
       "      <td>Forward charges</td>\n",
       "      <td>61.30</td>\n",
       "      <td>b</td>\n",
       "      <td>1.00</td>\n",
       "      <td>1.00</td>\n",
       "      <td>b</td>\n",
       "      <td>1.00</td>\n",
       "      <td>33.00</td>\n",
       "      <td>28.30</td>\n",
       "      <td>20.50</td>\n",
       "      <td>28.30</td>\n",
       "      <td>33.00</td>\n",
       "    </tr>\n",
       "  </tbody>\n",
       "</table>\n",
       "</div>"
      ],
      "text/plain": [
       "   index    Order ID  Total weight as per X (KG)     AWB Number  \\\n",
       "0      0  2001806210                        0.22  1091117221940   \n",
       "1      1  2001806226                        0.48  1091117222065   \n",
       "2      2  2001806229                        0.50  1091117222080   \n",
       "3      3  2001806232                        1.30  1091117222124   \n",
       "4      4  2001806233                        0.25  1091117222135   \n",
       "\n",
       "   Total weight as per Courier Company (KG)  Warehouse Pincode  \\\n",
       "0                                      2.92             121003   \n",
       "1                                      0.68             121003   \n",
       "2                                      0.71             121003   \n",
       "3                                      1.30             121003   \n",
       "4                                      0.78             121003   \n",
       "\n",
       "   Customer Pincode Delivery Zone charged by Courier Company Type of Shipment  \\\n",
       "0            140604                                        b  Forward charges   \n",
       "1            723146                                        d  Forward charges   \n",
       "2            421204                                        d  Forward charges   \n",
       "3            507101                                        d  Forward charges   \n",
       "4            263139                                        b  Forward charges   \n",
       "\n",
       "   Charges Billed by Courier Company (Rs.) Delivery Zone as per X  \\\n",
       "0                                   174.50                      b   \n",
       "1                                    90.20                      d   \n",
       "2                                    90.20                      d   \n",
       "3                                   135.00                      d   \n",
       "4                                    61.30                      b   \n",
       "\n",
       "   Weight slab as per X (KG)  Weight slab charged by Courier Company (KG)  \\\n",
       "0                       1.00                                         1.00   \n",
       "1                       1.50                                         1.50   \n",
       "2                       1.50                                         1.50   \n",
       "3                       1.50                                         1.50   \n",
       "4                       1.00                                         1.00   \n",
       "\n",
       "  Zone  Weight Slabs  Forward Fixed Charge  \\\n",
       "0    b          1.00                 33.00   \n",
       "1    d          1.50                 45.40   \n",
       "2    d          1.50                 45.40   \n",
       "3    d          1.50                 45.40   \n",
       "4    b          1.00                 33.00   \n",
       "\n",
       "   Forward Additional Weight Slab Charge  RTO Fixed Charge  \\\n",
       "0                                  28.30             20.50   \n",
       "1                                  44.80             41.30   \n",
       "2                                  44.80             41.30   \n",
       "3                                  44.80             41.30   \n",
       "4                                  28.30             20.50   \n",
       "\n",
       "   RTO Additional Weight Slab Charge  Expected Charge as per X (Rs.)  \n",
       "0                              28.30                           33.00  \n",
       "1                              44.80                           45.40  \n",
       "2                              44.80                           45.40  \n",
       "3                              44.80                           45.40  \n",
       "4                              28.30                           33.00  "
      ]
     },
     "execution_count": 79,
     "metadata": {},
     "output_type": "execute_result"
    }
   ],
   "source": [
    "merged_df['Expected Charge as per X (Rs.)']= merged_df.apply(calculate_expected_charges, axis=1)\n",
    "merged_df.head()"
   ]
  },
  {
   "cell_type": "code",
   "execution_count": 80,
   "id": "4b2c68f9-c754-48cc-949e-52dcf98421b3",
   "metadata": {},
   "outputs": [
    {
     "data": {
      "text/plain": [
       "array([ 33. ,  45.4,  90.2,  61.3,  86.7, 107.3,  56.6,  53.5, 135. ,\n",
       "        89.6, 110.1, 176.3])"
      ]
     },
     "execution_count": 80,
     "metadata": {},
     "output_type": "execute_result"
    }
   ],
   "source": [
    "merged_df['Expected Charge as per X (Rs.)'].unique()"
   ]
  },
  {
   "cell_type": "code",
   "execution_count": 81,
   "id": "58c32613-337c-42ea-96c6-000b53ff013b",
   "metadata": {},
   "outputs": [
    {
     "data": {
      "text/html": [
       "<div>\n",
       "<style scoped>\n",
       "    .dataframe tbody tr th:only-of-type {\n",
       "        vertical-align: middle;\n",
       "    }\n",
       "\n",
       "    .dataframe tbody tr th {\n",
       "        vertical-align: top;\n",
       "    }\n",
       "\n",
       "    .dataframe thead th {\n",
       "        text-align: right;\n",
       "    }\n",
       "</style>\n",
       "<table border=\"1\" class=\"dataframe\">\n",
       "  <thead>\n",
       "    <tr style=\"text-align: right;\">\n",
       "      <th></th>\n",
       "      <th>Order ID</th>\n",
       "      <th>AWB Number</th>\n",
       "      <th>Total weight as per X (KG)</th>\n",
       "      <th>Weight slab as per X (KG)</th>\n",
       "      <th>Total weight as per Courier Company (KG)</th>\n",
       "      <th>Weight slab charged by Courier Company (KG)</th>\n",
       "      <th>Delivery Zone as per X</th>\n",
       "      <th>Delivery Zone charged by Courier Company</th>\n",
       "      <th>Expected Charge as per X (Rs.)</th>\n",
       "      <th>Charges Billed by Courier Company (Rs.)</th>\n",
       "      <th>index</th>\n",
       "      <th>Warehouse Pincode</th>\n",
       "      <th>Customer Pincode</th>\n",
       "      <th>Type of Shipment</th>\n",
       "      <th>Zone</th>\n",
       "      <th>Weight Slabs</th>\n",
       "      <th>Forward Fixed Charge</th>\n",
       "      <th>Forward Additional Weight Slab Charge</th>\n",
       "      <th>RTO Fixed Charge</th>\n",
       "      <th>RTO Additional Weight Slab Charge</th>\n",
       "    </tr>\n",
       "  </thead>\n",
       "  <tbody>\n",
       "    <tr>\n",
       "      <th>0</th>\n",
       "      <td>2001806210</td>\n",
       "      <td>1091117221940</td>\n",
       "      <td>0.22</td>\n",
       "      <td>1.00</td>\n",
       "      <td>2.92</td>\n",
       "      <td>1.00</td>\n",
       "      <td>b</td>\n",
       "      <td>b</td>\n",
       "      <td>33.00</td>\n",
       "      <td>174.50</td>\n",
       "      <td>0</td>\n",
       "      <td>121003</td>\n",
       "      <td>140604</td>\n",
       "      <td>Forward charges</td>\n",
       "      <td>b</td>\n",
       "      <td>1.00</td>\n",
       "      <td>33.00</td>\n",
       "      <td>28.30</td>\n",
       "      <td>20.50</td>\n",
       "      <td>28.30</td>\n",
       "    </tr>\n",
       "    <tr>\n",
       "      <th>1</th>\n",
       "      <td>2001806226</td>\n",
       "      <td>1091117222065</td>\n",
       "      <td>0.48</td>\n",
       "      <td>1.50</td>\n",
       "      <td>0.68</td>\n",
       "      <td>1.50</td>\n",
       "      <td>d</td>\n",
       "      <td>d</td>\n",
       "      <td>45.40</td>\n",
       "      <td>90.20</td>\n",
       "      <td>1</td>\n",
       "      <td>121003</td>\n",
       "      <td>723146</td>\n",
       "      <td>Forward charges</td>\n",
       "      <td>d</td>\n",
       "      <td>1.50</td>\n",
       "      <td>45.40</td>\n",
       "      <td>44.80</td>\n",
       "      <td>41.30</td>\n",
       "      <td>44.80</td>\n",
       "    </tr>\n",
       "    <tr>\n",
       "      <th>2</th>\n",
       "      <td>2001806229</td>\n",
       "      <td>1091117222080</td>\n",
       "      <td>0.50</td>\n",
       "      <td>1.50</td>\n",
       "      <td>0.71</td>\n",
       "      <td>1.50</td>\n",
       "      <td>d</td>\n",
       "      <td>d</td>\n",
       "      <td>45.40</td>\n",
       "      <td>90.20</td>\n",
       "      <td>2</td>\n",
       "      <td>121003</td>\n",
       "      <td>421204</td>\n",
       "      <td>Forward charges</td>\n",
       "      <td>d</td>\n",
       "      <td>1.50</td>\n",
       "      <td>45.40</td>\n",
       "      <td>44.80</td>\n",
       "      <td>41.30</td>\n",
       "      <td>44.80</td>\n",
       "    </tr>\n",
       "    <tr>\n",
       "      <th>3</th>\n",
       "      <td>2001806232</td>\n",
       "      <td>1091117222124</td>\n",
       "      <td>1.30</td>\n",
       "      <td>1.50</td>\n",
       "      <td>1.30</td>\n",
       "      <td>1.50</td>\n",
       "      <td>d</td>\n",
       "      <td>d</td>\n",
       "      <td>45.40</td>\n",
       "      <td>135.00</td>\n",
       "      <td>3</td>\n",
       "      <td>121003</td>\n",
       "      <td>507101</td>\n",
       "      <td>Forward charges</td>\n",
       "      <td>d</td>\n",
       "      <td>1.50</td>\n",
       "      <td>45.40</td>\n",
       "      <td>44.80</td>\n",
       "      <td>41.30</td>\n",
       "      <td>44.80</td>\n",
       "    </tr>\n",
       "    <tr>\n",
       "      <th>4</th>\n",
       "      <td>2001806233</td>\n",
       "      <td>1091117222135</td>\n",
       "      <td>0.25</td>\n",
       "      <td>1.00</td>\n",
       "      <td>0.78</td>\n",
       "      <td>1.00</td>\n",
       "      <td>b</td>\n",
       "      <td>b</td>\n",
       "      <td>33.00</td>\n",
       "      <td>61.30</td>\n",
       "      <td>4</td>\n",
       "      <td>121003</td>\n",
       "      <td>263139</td>\n",
       "      <td>Forward charges</td>\n",
       "      <td>b</td>\n",
       "      <td>1.00</td>\n",
       "      <td>33.00</td>\n",
       "      <td>28.30</td>\n",
       "      <td>20.50</td>\n",
       "      <td>28.30</td>\n",
       "    </tr>\n",
       "  </tbody>\n",
       "</table>\n",
       "</div>"
      ],
      "text/plain": [
       "     Order ID     AWB Number  Total weight as per X (KG)  \\\n",
       "0  2001806210  1091117221940                        0.22   \n",
       "1  2001806226  1091117222065                        0.48   \n",
       "2  2001806229  1091117222080                        0.50   \n",
       "3  2001806232  1091117222124                        1.30   \n",
       "4  2001806233  1091117222135                        0.25   \n",
       "\n",
       "   Weight slab as per X (KG)  Total weight as per Courier Company (KG)  \\\n",
       "0                       1.00                                      2.92   \n",
       "1                       1.50                                      0.68   \n",
       "2                       1.50                                      0.71   \n",
       "3                       1.50                                      1.30   \n",
       "4                       1.00                                      0.78   \n",
       "\n",
       "   Weight slab charged by Courier Company (KG) Delivery Zone as per X  \\\n",
       "0                                         1.00                      b   \n",
       "1                                         1.50                      d   \n",
       "2                                         1.50                      d   \n",
       "3                                         1.50                      d   \n",
       "4                                         1.00                      b   \n",
       "\n",
       "  Delivery Zone charged by Courier Company  Expected Charge as per X (Rs.)  \\\n",
       "0                                        b                           33.00   \n",
       "1                                        d                           45.40   \n",
       "2                                        d                           45.40   \n",
       "3                                        d                           45.40   \n",
       "4                                        b                           33.00   \n",
       "\n",
       "   Charges Billed by Courier Company (Rs.)  index  Warehouse Pincode  \\\n",
       "0                                   174.50      0             121003   \n",
       "1                                    90.20      1             121003   \n",
       "2                                    90.20      2             121003   \n",
       "3                                   135.00      3             121003   \n",
       "4                                    61.30      4             121003   \n",
       "\n",
       "   Customer Pincode Type of Shipment Zone  Weight Slabs  Forward Fixed Charge  \\\n",
       "0            140604  Forward charges    b          1.00                 33.00   \n",
       "1            723146  Forward charges    d          1.50                 45.40   \n",
       "2            421204  Forward charges    d          1.50                 45.40   \n",
       "3            507101  Forward charges    d          1.50                 45.40   \n",
       "4            263139  Forward charges    b          1.00                 33.00   \n",
       "\n",
       "   Forward Additional Weight Slab Charge  RTO Fixed Charge  \\\n",
       "0                                  28.30             20.50   \n",
       "1                                  44.80             41.30   \n",
       "2                                  44.80             41.30   \n",
       "3                                  44.80             41.30   \n",
       "4                                  28.30             20.50   \n",
       "\n",
       "   RTO Additional Weight Slab Charge  \n",
       "0                              28.30  \n",
       "1                              44.80  \n",
       "2                              44.80  \n",
       "3                              44.80  \n",
       "4                              28.30  "
      ]
     },
     "execution_count": 81,
     "metadata": {},
     "output_type": "execute_result"
    }
   ],
   "source": [
    "cols_to_order = ['Order ID', 'AWB Number','Total weight as per X (KG)','Weight slab as per X (KG)','Total weight as per Courier Company (KG)','Weight slab charged by Courier Company (KG)','Delivery Zone as per X','Delivery Zone charged by Courier Company','Expected Charge as per X (Rs.)','Charges Billed by Courier Company (Rs.)']\n",
    "new_columns = cols_to_order + (merged_df.columns.drop(cols_to_order).tolist())\n",
    "merged_df = merged_df[new_columns]\n",
    "merged_df.head()"
   ]
  },
  {
   "cell_type": "code",
   "execution_count": 82,
   "id": "b653009d-838e-4b1f-9408-88e1fb3749b3",
   "metadata": {},
   "outputs": [],
   "source": [
    "merged_df = merged_df.round({'Charges Billed by Courier Company (Rs.)': 2})"
   ]
  },
  {
   "cell_type": "code",
   "execution_count": 83,
   "id": "49b0ebd1-321f-4a90-8f2d-cdfafdb90ecf",
   "metadata": {},
   "outputs": [],
   "source": [
    "merged_df = merged_df.round({'Expected Charge as per X (Rs.)': 2})"
   ]
  },
  {
   "cell_type": "code",
   "execution_count": 84,
   "id": "63c641bb-0d5b-43c3-8e3c-4f846cc27810",
   "metadata": {},
   "outputs": [],
   "source": [
    "merged_df['Difference Between Expected Charges and Billed Charges (Rs.)']=merged_df['Expected Charge as per X (Rs.)']-merged_df['Charges Billed by Courier Company (Rs.)']"
   ]
  },
  {
   "cell_type": "code",
   "execution_count": 85,
   "id": "fc28afd8-bd3c-4852-b896-3e74fdc249ac",
   "metadata": {},
   "outputs": [
    {
     "data": {
      "text/html": [
       "<div>\n",
       "<style scoped>\n",
       "    .dataframe tbody tr th:only-of-type {\n",
       "        vertical-align: middle;\n",
       "    }\n",
       "\n",
       "    .dataframe tbody tr th {\n",
       "        vertical-align: top;\n",
       "    }\n",
       "\n",
       "    .dataframe thead th {\n",
       "        text-align: right;\n",
       "    }\n",
       "</style>\n",
       "<table border=\"1\" class=\"dataframe\">\n",
       "  <thead>\n",
       "    <tr style=\"text-align: right;\">\n",
       "      <th></th>\n",
       "      <th>Order ID</th>\n",
       "      <th>AWB Number</th>\n",
       "      <th>Total weight as per X (KG)</th>\n",
       "      <th>Weight slab as per X (KG)</th>\n",
       "      <th>Total weight as per Courier Company (KG)</th>\n",
       "      <th>Weight slab charged by Courier Company (KG)</th>\n",
       "      <th>Delivery Zone as per X</th>\n",
       "      <th>Delivery Zone charged by Courier Company</th>\n",
       "      <th>Expected Charge as per X (Rs.)</th>\n",
       "      <th>Charges Billed by Courier Company (Rs.)</th>\n",
       "      <th>index</th>\n",
       "      <th>Warehouse Pincode</th>\n",
       "      <th>Customer Pincode</th>\n",
       "      <th>Type of Shipment</th>\n",
       "      <th>Zone</th>\n",
       "      <th>Weight Slabs</th>\n",
       "      <th>Forward Fixed Charge</th>\n",
       "      <th>Forward Additional Weight Slab Charge</th>\n",
       "      <th>RTO Fixed Charge</th>\n",
       "      <th>RTO Additional Weight Slab Charge</th>\n",
       "      <th>Difference Between Expected Charges and Billed Charges (Rs.)</th>\n",
       "    </tr>\n",
       "  </thead>\n",
       "  <tbody>\n",
       "    <tr>\n",
       "      <th>0</th>\n",
       "      <td>2001806210</td>\n",
       "      <td>1091117221940</td>\n",
       "      <td>0.22</td>\n",
       "      <td>1.00</td>\n",
       "      <td>2.92</td>\n",
       "      <td>1.00</td>\n",
       "      <td>b</td>\n",
       "      <td>b</td>\n",
       "      <td>33.00</td>\n",
       "      <td>174.50</td>\n",
       "      <td>0</td>\n",
       "      <td>121003</td>\n",
       "      <td>140604</td>\n",
       "      <td>Forward charges</td>\n",
       "      <td>b</td>\n",
       "      <td>1.00</td>\n",
       "      <td>33.00</td>\n",
       "      <td>28.30</td>\n",
       "      <td>20.50</td>\n",
       "      <td>28.30</td>\n",
       "      <td>-141.50</td>\n",
       "    </tr>\n",
       "    <tr>\n",
       "      <th>1</th>\n",
       "      <td>2001806226</td>\n",
       "      <td>1091117222065</td>\n",
       "      <td>0.48</td>\n",
       "      <td>1.50</td>\n",
       "      <td>0.68</td>\n",
       "      <td>1.50</td>\n",
       "      <td>d</td>\n",
       "      <td>d</td>\n",
       "      <td>45.40</td>\n",
       "      <td>90.20</td>\n",
       "      <td>1</td>\n",
       "      <td>121003</td>\n",
       "      <td>723146</td>\n",
       "      <td>Forward charges</td>\n",
       "      <td>d</td>\n",
       "      <td>1.50</td>\n",
       "      <td>45.40</td>\n",
       "      <td>44.80</td>\n",
       "      <td>41.30</td>\n",
       "      <td>44.80</td>\n",
       "      <td>-44.80</td>\n",
       "    </tr>\n",
       "    <tr>\n",
       "      <th>2</th>\n",
       "      <td>2001806229</td>\n",
       "      <td>1091117222080</td>\n",
       "      <td>0.50</td>\n",
       "      <td>1.50</td>\n",
       "      <td>0.71</td>\n",
       "      <td>1.50</td>\n",
       "      <td>d</td>\n",
       "      <td>d</td>\n",
       "      <td>45.40</td>\n",
       "      <td>90.20</td>\n",
       "      <td>2</td>\n",
       "      <td>121003</td>\n",
       "      <td>421204</td>\n",
       "      <td>Forward charges</td>\n",
       "      <td>d</td>\n",
       "      <td>1.50</td>\n",
       "      <td>45.40</td>\n",
       "      <td>44.80</td>\n",
       "      <td>41.30</td>\n",
       "      <td>44.80</td>\n",
       "      <td>-44.80</td>\n",
       "    </tr>\n",
       "    <tr>\n",
       "      <th>3</th>\n",
       "      <td>2001806232</td>\n",
       "      <td>1091117222124</td>\n",
       "      <td>1.30</td>\n",
       "      <td>1.50</td>\n",
       "      <td>1.30</td>\n",
       "      <td>1.50</td>\n",
       "      <td>d</td>\n",
       "      <td>d</td>\n",
       "      <td>45.40</td>\n",
       "      <td>135.00</td>\n",
       "      <td>3</td>\n",
       "      <td>121003</td>\n",
       "      <td>507101</td>\n",
       "      <td>Forward charges</td>\n",
       "      <td>d</td>\n",
       "      <td>1.50</td>\n",
       "      <td>45.40</td>\n",
       "      <td>44.80</td>\n",
       "      <td>41.30</td>\n",
       "      <td>44.80</td>\n",
       "      <td>-89.60</td>\n",
       "    </tr>\n",
       "    <tr>\n",
       "      <th>4</th>\n",
       "      <td>2001806233</td>\n",
       "      <td>1091117222135</td>\n",
       "      <td>0.25</td>\n",
       "      <td>1.00</td>\n",
       "      <td>0.78</td>\n",
       "      <td>1.00</td>\n",
       "      <td>b</td>\n",
       "      <td>b</td>\n",
       "      <td>33.00</td>\n",
       "      <td>61.30</td>\n",
       "      <td>4</td>\n",
       "      <td>121003</td>\n",
       "      <td>263139</td>\n",
       "      <td>Forward charges</td>\n",
       "      <td>b</td>\n",
       "      <td>1.00</td>\n",
       "      <td>33.00</td>\n",
       "      <td>28.30</td>\n",
       "      <td>20.50</td>\n",
       "      <td>28.30</td>\n",
       "      <td>-28.30</td>\n",
       "    </tr>\n",
       "  </tbody>\n",
       "</table>\n",
       "</div>"
      ],
      "text/plain": [
       "     Order ID     AWB Number  Total weight as per X (KG)  \\\n",
       "0  2001806210  1091117221940                        0.22   \n",
       "1  2001806226  1091117222065                        0.48   \n",
       "2  2001806229  1091117222080                        0.50   \n",
       "3  2001806232  1091117222124                        1.30   \n",
       "4  2001806233  1091117222135                        0.25   \n",
       "\n",
       "   Weight slab as per X (KG)  Total weight as per Courier Company (KG)  \\\n",
       "0                       1.00                                      2.92   \n",
       "1                       1.50                                      0.68   \n",
       "2                       1.50                                      0.71   \n",
       "3                       1.50                                      1.30   \n",
       "4                       1.00                                      0.78   \n",
       "\n",
       "   Weight slab charged by Courier Company (KG) Delivery Zone as per X  \\\n",
       "0                                         1.00                      b   \n",
       "1                                         1.50                      d   \n",
       "2                                         1.50                      d   \n",
       "3                                         1.50                      d   \n",
       "4                                         1.00                      b   \n",
       "\n",
       "  Delivery Zone charged by Courier Company  Expected Charge as per X (Rs.)  \\\n",
       "0                                        b                           33.00   \n",
       "1                                        d                           45.40   \n",
       "2                                        d                           45.40   \n",
       "3                                        d                           45.40   \n",
       "4                                        b                           33.00   \n",
       "\n",
       "   Charges Billed by Courier Company (Rs.)  index  Warehouse Pincode  \\\n",
       "0                                   174.50      0             121003   \n",
       "1                                    90.20      1             121003   \n",
       "2                                    90.20      2             121003   \n",
       "3                                   135.00      3             121003   \n",
       "4                                    61.30      4             121003   \n",
       "\n",
       "   Customer Pincode Type of Shipment Zone  Weight Slabs  Forward Fixed Charge  \\\n",
       "0            140604  Forward charges    b          1.00                 33.00   \n",
       "1            723146  Forward charges    d          1.50                 45.40   \n",
       "2            421204  Forward charges    d          1.50                 45.40   \n",
       "3            507101  Forward charges    d          1.50                 45.40   \n",
       "4            263139  Forward charges    b          1.00                 33.00   \n",
       "\n",
       "   Forward Additional Weight Slab Charge  RTO Fixed Charge  \\\n",
       "0                                  28.30             20.50   \n",
       "1                                  44.80             41.30   \n",
       "2                                  44.80             41.30   \n",
       "3                                  44.80             41.30   \n",
       "4                                  28.30             20.50   \n",
       "\n",
       "   RTO Additional Weight Slab Charge  \\\n",
       "0                              28.30   \n",
       "1                              44.80   \n",
       "2                              44.80   \n",
       "3                              44.80   \n",
       "4                              28.30   \n",
       "\n",
       "   Difference Between Expected Charges and Billed Charges (Rs.)  \n",
       "0                                            -141.50             \n",
       "1                                             -44.80             \n",
       "2                                             -44.80             \n",
       "3                                             -89.60             \n",
       "4                                             -28.30             "
      ]
     },
     "execution_count": 85,
     "metadata": {},
     "output_type": "execute_result"
    }
   ],
   "source": [
    "merged_df.head()"
   ]
  },
  {
   "cell_type": "code",
   "execution_count": 86,
   "id": "36b03b44-5952-4553-8fe6-02bf2d4aed20",
   "metadata": {},
   "outputs": [
    {
     "data": {
      "text/plain": [
       "array([-141.5,  -44.8,  -89.6,  -28.3,  -57.2, -134.4, -118.5,  -56.6,\n",
       "          0. , -102. , -134.4, -191.6,  -89.6, -370.8,  -86.1,  -12.4,\n",
       "         -4.7, -146.8,  -33.2,  -44.8, -172.2,   23.6,  -48.8, -179.8,\n",
       "        -41. , -106.2, -135. ,  -73.7, -168.7,  -61.3])"
      ]
     },
     "execution_count": 86,
     "metadata": {},
     "output_type": "execute_result"
    }
   ],
   "source": [
    "merged_df['Difference Between Expected Charges and Billed Charges (Rs.)'].unique()"
   ]
  },
  {
   "cell_type": "code",
   "execution_count": 87,
   "id": "bfb7bccb-0011-4669-80de-0c34ded7be0e",
   "metadata": {},
   "outputs": [
    {
     "data": {
      "text/plain": [
       "Difference Between Expected Charges and Billed Charges (Rs.)\n",
       "-57.20     33\n",
       "-44.80     15\n",
       "-12.40     11\n",
       "-28.30     11\n",
       "0.00        8\n",
       "-86.10      5\n",
       "-89.60      5\n",
       "-33.20      3\n",
       "-102.00     3\n",
       "-191.60     3\n",
       "23.60       2\n",
       "-172.20     2\n",
       "-146.80     2\n",
       "-4.70       2\n",
       "-141.50     2\n",
       "-56.60      2\n",
       "-134.40     2\n",
       "-370.80     1\n",
       "-89.60      1\n",
       "-134.40     1\n",
       "-44.80      1\n",
       "-118.50     1\n",
       "-48.80      1\n",
       "-179.80     1\n",
       "-41.00      1\n",
       "-106.20     1\n",
       "-135.00     1\n",
       "-73.70      1\n",
       "-168.70     1\n",
       "-61.30      1\n",
       "Name: count, dtype: int64"
      ]
     },
     "execution_count": 87,
     "metadata": {},
     "output_type": "execute_result"
    }
   ],
   "source": [
    "merged_df['Difference Between Expected Charges and Billed Charges (Rs.)'].value_counts()  #(normalize=True)"
   ]
  },
  {
   "cell_type": "code",
   "execution_count": 88,
   "id": "6cb27c17-6502-4183-b913-371827879a8e",
   "metadata": {},
   "outputs": [
    {
     "data": {
      "text/html": [
       "<div>\n",
       "<style scoped>\n",
       "    .dataframe tbody tr th:only-of-type {\n",
       "        vertical-align: middle;\n",
       "    }\n",
       "\n",
       "    .dataframe tbody tr th {\n",
       "        vertical-align: top;\n",
       "    }\n",
       "\n",
       "    .dataframe thead th {\n",
       "        text-align: right;\n",
       "    }\n",
       "</style>\n",
       "<table border=\"1\" class=\"dataframe\">\n",
       "  <thead>\n",
       "    <tr style=\"text-align: right;\">\n",
       "      <th></th>\n",
       "      <th>Order ID</th>\n",
       "      <th>AWB Number</th>\n",
       "      <th>Total weight as per X (KG)</th>\n",
       "      <th>Weight slab as per X (KG)</th>\n",
       "      <th>Total weight as per Courier Company (KG)</th>\n",
       "      <th>Weight slab charged by Courier Company (KG)</th>\n",
       "      <th>Delivery Zone as per X</th>\n",
       "      <th>Delivery Zone charged by Courier Company</th>\n",
       "      <th>Expected Charge as per X (Rs.)</th>\n",
       "      <th>Charges Billed by Courier Company (Rs.)</th>\n",
       "      <th>Difference Between Expected Charges and Billed Charges (Rs.)</th>\n",
       "    </tr>\n",
       "  </thead>\n",
       "  <tbody>\n",
       "    <tr>\n",
       "      <th>0</th>\n",
       "      <td>2001806210</td>\n",
       "      <td>1091117221940</td>\n",
       "      <td>0.22</td>\n",
       "      <td>1.00</td>\n",
       "      <td>2.92</td>\n",
       "      <td>1.00</td>\n",
       "      <td>b</td>\n",
       "      <td>b</td>\n",
       "      <td>33.00</td>\n",
       "      <td>174.50</td>\n",
       "      <td>-141.50</td>\n",
       "    </tr>\n",
       "    <tr>\n",
       "      <th>1</th>\n",
       "      <td>2001806226</td>\n",
       "      <td>1091117222065</td>\n",
       "      <td>0.48</td>\n",
       "      <td>1.50</td>\n",
       "      <td>0.68</td>\n",
       "      <td>1.50</td>\n",
       "      <td>d</td>\n",
       "      <td>d</td>\n",
       "      <td>45.40</td>\n",
       "      <td>90.20</td>\n",
       "      <td>-44.80</td>\n",
       "    </tr>\n",
       "    <tr>\n",
       "      <th>2</th>\n",
       "      <td>2001806229</td>\n",
       "      <td>1091117222080</td>\n",
       "      <td>0.50</td>\n",
       "      <td>1.50</td>\n",
       "      <td>0.71</td>\n",
       "      <td>1.50</td>\n",
       "      <td>d</td>\n",
       "      <td>d</td>\n",
       "      <td>45.40</td>\n",
       "      <td>90.20</td>\n",
       "      <td>-44.80</td>\n",
       "    </tr>\n",
       "    <tr>\n",
       "      <th>3</th>\n",
       "      <td>2001806232</td>\n",
       "      <td>1091117222124</td>\n",
       "      <td>1.30</td>\n",
       "      <td>1.50</td>\n",
       "      <td>1.30</td>\n",
       "      <td>1.50</td>\n",
       "      <td>d</td>\n",
       "      <td>d</td>\n",
       "      <td>45.40</td>\n",
       "      <td>135.00</td>\n",
       "      <td>-89.60</td>\n",
       "    </tr>\n",
       "    <tr>\n",
       "      <th>4</th>\n",
       "      <td>2001806233</td>\n",
       "      <td>1091117222135</td>\n",
       "      <td>0.25</td>\n",
       "      <td>1.00</td>\n",
       "      <td>0.78</td>\n",
       "      <td>1.00</td>\n",
       "      <td>b</td>\n",
       "      <td>b</td>\n",
       "      <td>33.00</td>\n",
       "      <td>61.30</td>\n",
       "      <td>-28.30</td>\n",
       "    </tr>\n",
       "  </tbody>\n",
       "</table>\n",
       "</div>"
      ],
      "text/plain": [
       "     Order ID     AWB Number  Total weight as per X (KG)  \\\n",
       "0  2001806210  1091117221940                        0.22   \n",
       "1  2001806226  1091117222065                        0.48   \n",
       "2  2001806229  1091117222080                        0.50   \n",
       "3  2001806232  1091117222124                        1.30   \n",
       "4  2001806233  1091117222135                        0.25   \n",
       "\n",
       "   Weight slab as per X (KG)  Total weight as per Courier Company (KG)  \\\n",
       "0                       1.00                                      2.92   \n",
       "1                       1.50                                      0.68   \n",
       "2                       1.50                                      0.71   \n",
       "3                       1.50                                      1.30   \n",
       "4                       1.00                                      0.78   \n",
       "\n",
       "   Weight slab charged by Courier Company (KG) Delivery Zone as per X  \\\n",
       "0                                         1.00                      b   \n",
       "1                                         1.50                      d   \n",
       "2                                         1.50                      d   \n",
       "3                                         1.50                      d   \n",
       "4                                         1.00                      b   \n",
       "\n",
       "  Delivery Zone charged by Courier Company  Expected Charge as per X (Rs.)  \\\n",
       "0                                        b                           33.00   \n",
       "1                                        d                           45.40   \n",
       "2                                        d                           45.40   \n",
       "3                                        d                           45.40   \n",
       "4                                        b                           33.00   \n",
       "\n",
       "   Charges Billed by Courier Company (Rs.)  \\\n",
       "0                                   174.50   \n",
       "1                                    90.20   \n",
       "2                                    90.20   \n",
       "3                                   135.00   \n",
       "4                                    61.30   \n",
       "\n",
       "   Difference Between Expected Charges and Billed Charges (Rs.)  \n",
       "0                                            -141.50             \n",
       "1                                             -44.80             \n",
       "2                                             -44.80             \n",
       "3                                             -89.60             \n",
       "4                                             -28.30             "
      ]
     },
     "execution_count": 88,
     "metadata": {},
     "output_type": "execute_result"
    }
   ],
   "source": [
    "cols_to_order = ['Order ID', 'AWB Number','Total weight as per X (KG)','Weight slab as per X (KG)','Total weight as per Courier Company (KG)','Weight slab charged by Courier Company (KG)','Delivery Zone as per X','Delivery Zone charged by Courier Company','Expected Charge as per X (Rs.)','Charges Billed by Courier Company (Rs.)','Difference Between Expected Charges and Billed Charges (Rs.)']\n",
    "new_columns = cols_to_order #+ (merged_df.columns.drop(cols_to_order).tolist())\n",
    "merged_df = merged_df[new_columns]\n",
    "merged_df.head()"
   ]
  },
  {
   "cell_type": "markdown",
   "id": "0ad125fc-99b6-4b3d-9534-7adaa131efd6",
   "metadata": {},
   "source": [
    "# Generating Output 2"
   ]
  },
  {
   "cell_type": "code",
   "execution_count": 89,
   "id": "5043a58a-8ed0-4d62-a5e7-ac724aacd139",
   "metadata": {},
   "outputs": [],
   "source": [
    "count1=merged_df[merged_df['Difference Between Expected Charges and Billed Charges (Rs.)']==0]['Difference Between Expected Charges and Billed Charges (Rs.)']\n",
    "total_count1=len(count1)\n",
    "amount1=count1.sum()\n",
    "count2=merged_df[merged_df['Difference Between Expected Charges and Billed Charges (Rs.)']<0]['Difference Between Expected Charges and Billed Charges (Rs.)']\n",
    "total_count2=len(count2)\n",
    "amount2=abs(merged_df['Difference Between Expected Charges and Billed Charges (Rs.)'].sum())\n",
    "count3=merged_df[merged_df['Difference Between Expected Charges and Billed Charges (Rs.)']>0]['Difference Between Expected Charges and Billed Charges (Rs.)']\n",
    "total_count3=len(count3)\n",
    "amount3=count3.sum()"
   ]
  },
  {
   "cell_type": "code",
   "execution_count": 90,
   "id": "c4715474-c3da-4de9-80e9-7cb7e6c3bd25",
   "metadata": {},
   "outputs": [],
   "source": [
    "dict={'':['Total orders where X has been correctly charged','Total orders where X has been overcharged','Total orders where X has been undercharged'],\n",
    "        'Count':[total_count1,total_count2,total_count3],\n",
    "        'Amount(Rs.)':[amount1,amount2,amount3]}"
   ]
  },
  {
   "cell_type": "code",
   "execution_count": 91,
   "id": "2e6d8a57-dfa6-4f38-a7d4-91291e55399b",
   "metadata": {},
   "outputs": [
    {
     "data": {
      "text/html": [
       "<div>\n",
       "<style scoped>\n",
       "    .dataframe tbody tr th:only-of-type {\n",
       "        vertical-align: middle;\n",
       "    }\n",
       "\n",
       "    .dataframe tbody tr th {\n",
       "        vertical-align: top;\n",
       "    }\n",
       "\n",
       "    .dataframe thead th {\n",
       "        text-align: right;\n",
       "    }\n",
       "</style>\n",
       "<table border=\"1\" class=\"dataframe\">\n",
       "  <thead>\n",
       "    <tr style=\"text-align: right;\">\n",
       "      <th></th>\n",
       "      <th></th>\n",
       "      <th>Count</th>\n",
       "      <th>Amount(Rs.)</th>\n",
       "    </tr>\n",
       "  </thead>\n",
       "  <tbody>\n",
       "    <tr>\n",
       "      <th>0</th>\n",
       "      <td>Total orders where X has been correctly charged</td>\n",
       "      <td>8</td>\n",
       "      <td>0.00</td>\n",
       "    </tr>\n",
       "    <tr>\n",
       "      <th>1</th>\n",
       "      <td>Total orders where X has been overcharged</td>\n",
       "      <td>114</td>\n",
       "      <td>7704.00</td>\n",
       "    </tr>\n",
       "    <tr>\n",
       "      <th>2</th>\n",
       "      <td>Total orders where X has been undercharged</td>\n",
       "      <td>2</td>\n",
       "      <td>47.20</td>\n",
       "    </tr>\n",
       "  </tbody>\n",
       "</table>\n",
       "</div>"
      ],
      "text/plain": [
       "                                                    Count  Amount(Rs.)\n",
       "0  Total orders where X has been correctly charged      8         0.00\n",
       "1        Total orders where X has been overcharged    114      7704.00\n",
       "2       Total orders where X has been undercharged      2        47.20"
      ]
     },
     "execution_count": 91,
     "metadata": {},
     "output_type": "execute_result"
    }
   ],
   "source": [
    "output_2=pd.DataFrame(dict,index=[0,1,2])\n",
    "output_2"
   ]
  },
  {
   "cell_type": "markdown",
   "id": "39dfd111-191f-4eb6-ab92-acbc2b8c32b7",
   "metadata": {},
   "source": [
    "# Writing Output into Excel file"
   ]
  },
  {
   "cell_type": "code",
   "execution_count": 92,
   "id": "11a288ea-52c2-4248-973a-15a79ef627c3",
   "metadata": {},
   "outputs": [],
   "source": [
    "with pd.ExcelWriter('Output.xlsx') as writer:\n",
    "    merged_df.to_excel(writer, sheet_name='Ouput',index=False)\n",
    "    output_2.to_excel(writer, sheet_name='Summary')"
   ]
  }
 ],
 "metadata": {
  "kernelspec": {
   "display_name": "Python 3 (ipykernel)",
   "language": "python",
   "name": "python3"
  },
  "language_info": {
   "codemirror_mode": {
    "name": "ipython",
    "version": 3
   },
   "file_extension": ".py",
   "mimetype": "text/x-python",
   "name": "python",
   "nbconvert_exporter": "python",
   "pygments_lexer": "ipython3",
   "version": "3.9.5"
  }
 },
 "nbformat": 4,
 "nbformat_minor": 5
}
